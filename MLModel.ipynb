{
 "cells": [
  {
   "cell_type": "code",
   "execution_count": 2,
   "metadata": {},
   "outputs": [
    {
     "name": "stderr",
     "output_type": "stream",
     "text": [
      "e:\\ANLY 605\\ApplicationTutorial\\.venv\\lib\\site-packages\\sklearn\\utils\\deprecation.py:87: FutureWarning: Function load_boston is deprecated; `load_boston` is deprecated in 1.0 and will be removed in 1.2.\n",
      "\n",
      "    The Boston housing prices dataset has an ethical problem. You can refer to\n",
      "    the documentation of this function for further details.\n",
      "\n",
      "    The scikit-learn maintainers therefore strongly discourage the use of this\n",
      "    dataset unless the purpose of the code is to study and educate about\n",
      "    ethical issues in data science and machine learning.\n",
      "\n",
      "    In this case special case, you can fetch the dataset from the original\n",
      "    source::\n",
      "\n",
      "        import pandas as pd\n",
      "        import numpy as np\n",
      "\n",
      "\n",
      "        data_url = \"http://lib.stat.cmu.edu/datasets/boston\"\n",
      "        raw_df = pd.read_csv(data_url, sep=\"\\s+\", skiprows=22, header=None)\n",
      "        data = np.hstack([raw_df.values[::2, :], raw_df.values[1::2, :2]])\n",
      "        target = raw_df.values[1::2, 2]\n",
      "\n",
      "    Alternative datasets include the California housing dataset (i.e.\n",
      "    func:`~sklearn.datasets.fetch_california_housing`) and the Ames housing\n",
      "    dataset. You can load the datasets as follows:\n",
      "\n",
      "        from sklearn.datasets import fetch_california_housing\n",
      "        housing = fetch_california_housing()\n",
      "\n",
      "    for the California housing dataset and:\n",
      "\n",
      "        from sklearn.datasets import fetch_openml\n",
      "        housing = fetch_openml(name=\"house_prices\", as_frame=True)\n",
      "\n",
      "    for the Ames housing dataset.\n",
      "    \n",
      "  warnings.warn(msg, category=FutureWarning)\n"
     ]
    },
    {
     "data": {
      "text/html": [
       "<div>\n",
       "<style scoped>\n",
       "    .dataframe tbody tr th:only-of-type {\n",
       "        vertical-align: middle;\n",
       "    }\n",
       "\n",
       "    .dataframe tbody tr th {\n",
       "        vertical-align: top;\n",
       "    }\n",
       "\n",
       "    .dataframe thead th {\n",
       "        text-align: right;\n",
       "    }\n",
       "</style>\n",
       "<table border=\"1\" class=\"dataframe\">\n",
       "  <thead>\n",
       "    <tr style=\"text-align: right;\">\n",
       "      <th></th>\n",
       "      <th>CRIM</th>\n",
       "      <th>ZN</th>\n",
       "      <th>INDUS</th>\n",
       "      <th>CHAS</th>\n",
       "      <th>NOX</th>\n",
       "      <th>RM</th>\n",
       "      <th>AGE</th>\n",
       "      <th>DIS</th>\n",
       "      <th>RAD</th>\n",
       "      <th>TAX</th>\n",
       "      <th>PTRATIO</th>\n",
       "      <th>B</th>\n",
       "      <th>LSTAT</th>\n",
       "      <th>PRICE</th>\n",
       "    </tr>\n",
       "  </thead>\n",
       "  <tbody>\n",
       "    <tr>\n",
       "      <th>count</th>\n",
       "      <td>506.000000</td>\n",
       "      <td>506.000000</td>\n",
       "      <td>506.000000</td>\n",
       "      <td>506.000000</td>\n",
       "      <td>506.000000</td>\n",
       "      <td>506.000000</td>\n",
       "      <td>506.000000</td>\n",
       "      <td>506.000000</td>\n",
       "      <td>506.000000</td>\n",
       "      <td>506.000000</td>\n",
       "      <td>506.000000</td>\n",
       "      <td>506.000000</td>\n",
       "      <td>506.000000</td>\n",
       "      <td>506.000000</td>\n",
       "    </tr>\n",
       "    <tr>\n",
       "      <th>mean</th>\n",
       "      <td>3.613524</td>\n",
       "      <td>11.363636</td>\n",
       "      <td>11.136779</td>\n",
       "      <td>0.069170</td>\n",
       "      <td>0.554695</td>\n",
       "      <td>6.284634</td>\n",
       "      <td>68.574901</td>\n",
       "      <td>3.795043</td>\n",
       "      <td>9.549407</td>\n",
       "      <td>408.237154</td>\n",
       "      <td>18.455534</td>\n",
       "      <td>356.674032</td>\n",
       "      <td>12.653063</td>\n",
       "      <td>22.532806</td>\n",
       "    </tr>\n",
       "    <tr>\n",
       "      <th>std</th>\n",
       "      <td>8.601545</td>\n",
       "      <td>23.322453</td>\n",
       "      <td>6.860353</td>\n",
       "      <td>0.253994</td>\n",
       "      <td>0.115878</td>\n",
       "      <td>0.702617</td>\n",
       "      <td>28.148861</td>\n",
       "      <td>2.105710</td>\n",
       "      <td>8.707259</td>\n",
       "      <td>168.537116</td>\n",
       "      <td>2.164946</td>\n",
       "      <td>91.294864</td>\n",
       "      <td>7.141062</td>\n",
       "      <td>9.197104</td>\n",
       "    </tr>\n",
       "    <tr>\n",
       "      <th>min</th>\n",
       "      <td>0.006320</td>\n",
       "      <td>0.000000</td>\n",
       "      <td>0.460000</td>\n",
       "      <td>0.000000</td>\n",
       "      <td>0.385000</td>\n",
       "      <td>3.561000</td>\n",
       "      <td>2.900000</td>\n",
       "      <td>1.129600</td>\n",
       "      <td>1.000000</td>\n",
       "      <td>187.000000</td>\n",
       "      <td>12.600000</td>\n",
       "      <td>0.320000</td>\n",
       "      <td>1.730000</td>\n",
       "      <td>5.000000</td>\n",
       "    </tr>\n",
       "    <tr>\n",
       "      <th>25%</th>\n",
       "      <td>0.082045</td>\n",
       "      <td>0.000000</td>\n",
       "      <td>5.190000</td>\n",
       "      <td>0.000000</td>\n",
       "      <td>0.449000</td>\n",
       "      <td>5.885500</td>\n",
       "      <td>45.025000</td>\n",
       "      <td>2.100175</td>\n",
       "      <td>4.000000</td>\n",
       "      <td>279.000000</td>\n",
       "      <td>17.400000</td>\n",
       "      <td>375.377500</td>\n",
       "      <td>6.950000</td>\n",
       "      <td>17.025000</td>\n",
       "    </tr>\n",
       "    <tr>\n",
       "      <th>50%</th>\n",
       "      <td>0.256510</td>\n",
       "      <td>0.000000</td>\n",
       "      <td>9.690000</td>\n",
       "      <td>0.000000</td>\n",
       "      <td>0.538000</td>\n",
       "      <td>6.208500</td>\n",
       "      <td>77.500000</td>\n",
       "      <td>3.207450</td>\n",
       "      <td>5.000000</td>\n",
       "      <td>330.000000</td>\n",
       "      <td>19.050000</td>\n",
       "      <td>391.440000</td>\n",
       "      <td>11.360000</td>\n",
       "      <td>21.200000</td>\n",
       "    </tr>\n",
       "    <tr>\n",
       "      <th>75%</th>\n",
       "      <td>3.677083</td>\n",
       "      <td>12.500000</td>\n",
       "      <td>18.100000</td>\n",
       "      <td>0.000000</td>\n",
       "      <td>0.624000</td>\n",
       "      <td>6.623500</td>\n",
       "      <td>94.075000</td>\n",
       "      <td>5.188425</td>\n",
       "      <td>24.000000</td>\n",
       "      <td>666.000000</td>\n",
       "      <td>20.200000</td>\n",
       "      <td>396.225000</td>\n",
       "      <td>16.955000</td>\n",
       "      <td>25.000000</td>\n",
       "    </tr>\n",
       "    <tr>\n",
       "      <th>max</th>\n",
       "      <td>88.976200</td>\n",
       "      <td>100.000000</td>\n",
       "      <td>27.740000</td>\n",
       "      <td>1.000000</td>\n",
       "      <td>0.871000</td>\n",
       "      <td>8.780000</td>\n",
       "      <td>100.000000</td>\n",
       "      <td>12.126500</td>\n",
       "      <td>24.000000</td>\n",
       "      <td>711.000000</td>\n",
       "      <td>22.000000</td>\n",
       "      <td>396.900000</td>\n",
       "      <td>37.970000</td>\n",
       "      <td>50.000000</td>\n",
       "    </tr>\n",
       "  </tbody>\n",
       "</table>\n",
       "</div>"
      ],
      "text/plain": [
       "             CRIM          ZN       INDUS        CHAS         NOX          RM  \\\n",
       "count  506.000000  506.000000  506.000000  506.000000  506.000000  506.000000   \n",
       "mean     3.613524   11.363636   11.136779    0.069170    0.554695    6.284634   \n",
       "std      8.601545   23.322453    6.860353    0.253994    0.115878    0.702617   \n",
       "min      0.006320    0.000000    0.460000    0.000000    0.385000    3.561000   \n",
       "25%      0.082045    0.000000    5.190000    0.000000    0.449000    5.885500   \n",
       "50%      0.256510    0.000000    9.690000    0.000000    0.538000    6.208500   \n",
       "75%      3.677083   12.500000   18.100000    0.000000    0.624000    6.623500   \n",
       "max     88.976200  100.000000   27.740000    1.000000    0.871000    8.780000   \n",
       "\n",
       "              AGE         DIS         RAD         TAX     PTRATIO           B  \\\n",
       "count  506.000000  506.000000  506.000000  506.000000  506.000000  506.000000   \n",
       "mean    68.574901    3.795043    9.549407  408.237154   18.455534  356.674032   \n",
       "std     28.148861    2.105710    8.707259  168.537116    2.164946   91.294864   \n",
       "min      2.900000    1.129600    1.000000  187.000000   12.600000    0.320000   \n",
       "25%     45.025000    2.100175    4.000000  279.000000   17.400000  375.377500   \n",
       "50%     77.500000    3.207450    5.000000  330.000000   19.050000  391.440000   \n",
       "75%     94.075000    5.188425   24.000000  666.000000   20.200000  396.225000   \n",
       "max    100.000000   12.126500   24.000000  711.000000   22.000000  396.900000   \n",
       "\n",
       "            LSTAT       PRICE  \n",
       "count  506.000000  506.000000  \n",
       "mean    12.653063   22.532806  \n",
       "std      7.141062    9.197104  \n",
       "min      1.730000    5.000000  \n",
       "25%      6.950000   17.025000  \n",
       "50%     11.360000   21.200000  \n",
       "75%     16.955000   25.000000  \n",
       "max     37.970000   50.000000  "
      ]
     },
     "execution_count": 2,
     "metadata": {},
     "output_type": "execute_result"
    }
   ],
   "source": [
    "import numpy as np\n",
    "import pandas as pd\n",
    "import seaborn as sns\n",
    "import matplotlib.pyplot as plt\n",
    "from sklearn.linear_model import LinearRegression\n",
    "from sklearn.model_selection import train_test_split, cross_val_score\n",
    "from sklearn.metrics import mean_squared_error\n",
    "\n",
    "from sklearn.datasets import load_boston\n",
    "boston = load_boston()\n",
    "bos_df = pd.DataFrame(boston.data, columns = boston.feature_names)\n",
    "bos_df['PRICE'] = boston.target\n",
    "\n",
    "bos_df.describe()"
   ]
  },
  {
   "cell_type": "code",
   "execution_count": 3,
   "metadata": {},
   "outputs": [],
   "source": [
    "# !wget https://github.com/plotly/orca/releases/download/v1.2.1/orca-1.2.1-x86_64.AppImage -O /usr/local/bin/orca\n",
    "# !chmod +x /usr/local/bin/orca\n",
    "# !apt-get install xvfb libgtk2.0-0 libgconf-2-4"
   ]
  },
  {
   "cell_type": "code",
   "execution_count": 4,
   "metadata": {},
   "outputs": [
    {
     "data": {
      "text/html": [
       "<div>\n",
       "<style scoped>\n",
       "    .dataframe tbody tr th:only-of-type {\n",
       "        vertical-align: middle;\n",
       "    }\n",
       "\n",
       "    .dataframe tbody tr th {\n",
       "        vertical-align: top;\n",
       "    }\n",
       "\n",
       "    .dataframe thead th {\n",
       "        text-align: right;\n",
       "    }\n",
       "</style>\n",
       "<table border=\"1\" class=\"dataframe\">\n",
       "  <thead>\n",
       "    <tr style=\"text-align: right;\">\n",
       "      <th></th>\n",
       "      <th>CRIM</th>\n",
       "      <th>ZN</th>\n",
       "      <th>INDUS</th>\n",
       "      <th>CHAS</th>\n",
       "      <th>NOX</th>\n",
       "      <th>RM</th>\n",
       "      <th>AGE</th>\n",
       "      <th>DIS</th>\n",
       "      <th>RAD</th>\n",
       "      <th>TAX</th>\n",
       "      <th>PTRATIO</th>\n",
       "      <th>B</th>\n",
       "      <th>LSTAT</th>\n",
       "      <th>PRICE</th>\n",
       "    </tr>\n",
       "  </thead>\n",
       "  <tbody>\n",
       "    <tr>\n",
       "      <th>0</th>\n",
       "      <td>0.00632</td>\n",
       "      <td>18.0</td>\n",
       "      <td>2.31</td>\n",
       "      <td>0.0</td>\n",
       "      <td>0.538</td>\n",
       "      <td>6.575</td>\n",
       "      <td>65.2</td>\n",
       "      <td>4.0900</td>\n",
       "      <td>1.0</td>\n",
       "      <td>296.0</td>\n",
       "      <td>15.3</td>\n",
       "      <td>396.90</td>\n",
       "      <td>4.98</td>\n",
       "      <td>24.0</td>\n",
       "    </tr>\n",
       "    <tr>\n",
       "      <th>1</th>\n",
       "      <td>0.02731</td>\n",
       "      <td>0.0</td>\n",
       "      <td>7.07</td>\n",
       "      <td>0.0</td>\n",
       "      <td>0.469</td>\n",
       "      <td>6.421</td>\n",
       "      <td>78.9</td>\n",
       "      <td>4.9671</td>\n",
       "      <td>2.0</td>\n",
       "      <td>242.0</td>\n",
       "      <td>17.8</td>\n",
       "      <td>396.90</td>\n",
       "      <td>9.14</td>\n",
       "      <td>21.6</td>\n",
       "    </tr>\n",
       "    <tr>\n",
       "      <th>2</th>\n",
       "      <td>0.02729</td>\n",
       "      <td>0.0</td>\n",
       "      <td>7.07</td>\n",
       "      <td>0.0</td>\n",
       "      <td>0.469</td>\n",
       "      <td>7.185</td>\n",
       "      <td>61.1</td>\n",
       "      <td>4.9671</td>\n",
       "      <td>2.0</td>\n",
       "      <td>242.0</td>\n",
       "      <td>17.8</td>\n",
       "      <td>392.83</td>\n",
       "      <td>4.03</td>\n",
       "      <td>34.7</td>\n",
       "    </tr>\n",
       "    <tr>\n",
       "      <th>3</th>\n",
       "      <td>0.03237</td>\n",
       "      <td>0.0</td>\n",
       "      <td>2.18</td>\n",
       "      <td>0.0</td>\n",
       "      <td>0.458</td>\n",
       "      <td>6.998</td>\n",
       "      <td>45.8</td>\n",
       "      <td>6.0622</td>\n",
       "      <td>3.0</td>\n",
       "      <td>222.0</td>\n",
       "      <td>18.7</td>\n",
       "      <td>394.63</td>\n",
       "      <td>2.94</td>\n",
       "      <td>33.4</td>\n",
       "    </tr>\n",
       "    <tr>\n",
       "      <th>4</th>\n",
       "      <td>0.06905</td>\n",
       "      <td>0.0</td>\n",
       "      <td>2.18</td>\n",
       "      <td>0.0</td>\n",
       "      <td>0.458</td>\n",
       "      <td>7.147</td>\n",
       "      <td>54.2</td>\n",
       "      <td>6.0622</td>\n",
       "      <td>3.0</td>\n",
       "      <td>222.0</td>\n",
       "      <td>18.7</td>\n",
       "      <td>396.90</td>\n",
       "      <td>5.33</td>\n",
       "      <td>36.2</td>\n",
       "    </tr>\n",
       "  </tbody>\n",
       "</table>\n",
       "</div>"
      ],
      "text/plain": [
       "      CRIM    ZN  INDUS  CHAS    NOX     RM   AGE     DIS  RAD    TAX  \\\n",
       "0  0.00632  18.0   2.31   0.0  0.538  6.575  65.2  4.0900  1.0  296.0   \n",
       "1  0.02731   0.0   7.07   0.0  0.469  6.421  78.9  4.9671  2.0  242.0   \n",
       "2  0.02729   0.0   7.07   0.0  0.469  7.185  61.1  4.9671  2.0  242.0   \n",
       "3  0.03237   0.0   2.18   0.0  0.458  6.998  45.8  6.0622  3.0  222.0   \n",
       "4  0.06905   0.0   2.18   0.0  0.458  7.147  54.2  6.0622  3.0  222.0   \n",
       "\n",
       "   PTRATIO       B  LSTAT  PRICE  \n",
       "0     15.3  396.90   4.98   24.0  \n",
       "1     17.8  396.90   9.14   21.6  \n",
       "2     17.8  392.83   4.03   34.7  \n",
       "3     18.7  394.63   2.94   33.4  \n",
       "4     18.7  396.90   5.33   36.2  "
      ]
     },
     "execution_count": 4,
     "metadata": {},
     "output_type": "execute_result"
    }
   ],
   "source": [
    "bos_df.head()"
   ]
  },
  {
   "cell_type": "code",
   "execution_count": 5,
   "metadata": {},
   "outputs": [],
   "source": [
    "X_train, X_test, y_train, y_test = train_test_split(boston.data, boston.target, test_size=0.25)"
   ]
  },
  {
   "cell_type": "code",
   "execution_count": 6,
   "metadata": {},
   "outputs": [
    {
     "data": {
      "text/plain": [
       "<AxesSubplot:>"
      ]
     },
     "execution_count": 6,
     "metadata": {},
     "output_type": "execute_result"
    },
    {
     "data": {
      "image/png": "[encoded data removed]",
      "text/plain": [
       "<Figure size 1500x1500 with 2 Axes>"
      ]
     },
     "metadata": {
      "needs_background": "light"
     },
     "output_type": "display_data"
    }
   ],
   "source": [
    "plt.figure(figsize=(10, 10),dpi=150)\n",
    "correlation_matrix = bos_df.corr().round(2)\n",
    "sns.heatmap(data=correlation_matrix, annot=True)"
   ]
  },
  {
   "cell_type": "code",
   "execution_count": 7,
   "metadata": {},
   "outputs": [
    {
     "data": {
      "image/png": "[encoded data removed]",
      "text/plain": [
       "<Figure size 4000x1000 with 2 Axes>"
      ]
     },
     "metadata": {
      "needs_background": "light"
     },
     "output_type": "display_data"
    }
   ],
   "source": [
    "from matplotlib import rcParams\n",
    "\n",
    "plt.figure(figsize=(20, 5),dpi=200)\n",
    "\n",
    "features = ['LSTAT', 'RM']\n",
    "target = bos_df['PRICE']\n",
    "\n",
    "for i, col in enumerate(features):\n",
    "    plt.subplot(1, len(features) , i+1)\n",
    "    x = bos_df[col]\n",
    "    y = target\n",
    "    plt.scatter(x, y, marker='o')\n",
    "    plt.title(\"Variation in House prices\",loc=\"Left\")\n",
    "    plt.xlabel(col)\n",
    "    plt.ylabel('House prices in $1000')"
   ]
  },
  {
   "cell_type": "code",
   "execution_count": 8,
   "metadata": {},
   "outputs": [
    {
     "data": {
      "application/vnd.plotly.v1+json": {
       "config": {
        "plotlyServerURL": "https://plot.ly"
       },
       "data": [
        {
         "line": {
          "color": "#003366",
          "width": 1
         },
         "marker": {
          "color": "#003366"
         },
         "mode": "markers",
         "type": "scatter",
         "x": [
          4.98,
          9.14,
          4.03,
          2.94,
          5.33,
          5.21,
          12.43,
          19.15,
          29.93,
          17.1,
          20.45,
          13.27,
          15.71,
          8.26,
          10.26,
          8.47,
          6.58,
          14.67,
          11.69,
          11.28,
          21.02,
          13.83,
          18.72,
          19.88,
          16.3,
          16.51,
          14.81,
          17.28,
          12.8,
          11.98,
          22.6,
          13.04,
          27.71,
          18.35,
          20.34,
          9.68,
          11.41,
          8.77,
          10.13,
          4.32,
          1.98,
          4.84,
          5.81,
          7.44,
          9.55,
          10.21,
          14.15,
          18.8,
          30.81,
          16.2,
          13.45,
          9.43,
          5.28,
          8.43,
          14.8,
          4.81,
          5.77,
          3.95,
          6.86,
          9.22,
          13.15,
          14.44,
          6.73,
          9.5,
          8.05,
          4.67,
          10.24,
          8.1,
          13.09,
          8.79,
          6.72,
          9.88,
          5.52,
          7.54,
          6.78,
          8.94,
          11.97,
          10.27,
          12.34,
          9.1,
          5.29,
          7.22,
          6.72,
          7.51,
          9.62,
          6.53,
          12.86,
          8.44,
          5.5,
          5.7,
          8.81,
          8.2,
          8.16,
          6.21,
          10.59,
          6.65,
          11.34,
          4.21,
          3.57,
          6.19,
          9.42,
          7.67,
          10.63,
          13.44,
          12.33,
          16.47,
          18.66,
          14.09,
          12.27,
          15.55,
          13,
          10.16,
          16.21,
          17.09,
          10.45,
          15.76,
          12.04,
          10.3,
          15.37,
          13.61,
          14.37,
          14.27,
          17.93,
          25.41,
          17.58,
          14.81,
          27.26,
          17.19,
          15.39,
          18.34,
          12.6,
          12.26,
          11.12,
          15.03,
          17.31,
          16.96,
          16.9,
          14.59,
          21.32,
          18.46,
          24.16,
          34.41,
          26.82,
          26.42,
          29.29,
          27.8,
          16.65,
          29.53,
          28.32,
          21.45,
          14.1,
          13.28,
          12.12,
          15.79,
          15.12,
          15.02,
          16.14,
          4.59,
          6.43,
          7.39,
          5.5,
          1.73,
          1.92,
          3.32,
          11.64,
          9.81,
          3.7,
          12.14,
          11.1,
          11.32,
          14.43,
          12.03,
          14.69,
          9.04,
          9.64,
          5.33,
          10.11,
          6.29,
          6.92,
          5.04,
          7.56,
          9.45,
          4.82,
          5.68,
          13.98,
          13.15,
          4.45,
          6.68,
          4.56,
          5.39,
          5.1,
          4.69,
          2.87,
          5.03,
          4.38,
          2.97,
          4.08,
          8.61,
          6.62,
          4.56,
          4.45,
          7.43,
          3.11,
          3.81,
          2.88,
          10.87,
          10.97,
          18.06,
          14.66,
          23.09,
          17.27,
          23.98,
          16.03,
          9.38,
          29.55,
          9.47,
          13.51,
          9.69,
          17.92,
          10.5,
          9.71,
          21.46,
          9.93,
          7.6,
          4.14,
          4.63,
          3.13,
          6.36,
          3.92,
          3.76,
          11.65,
          5.25,
          2.47,
          3.95,
          8.05,
          10.88,
          9.54,
          4.73,
          6.36,
          7.37,
          11.38,
          12.4,
          11.22,
          5.19,
          12.5,
          18.46,
          9.16,
          10.15,
          9.52,
          6.56,
          5.9,
          3.59,
          3.53,
          3.54,
          6.57,
          9.25,
          3.11,
          5.12,
          7.79,
          6.9,
          9.59,
          7.26,
          5.91,
          11.25,
          8.1,
          10.45,
          14.79,
          7.44,
          3.16,
          13.65,
          13,
          6.59,
          7.73,
          6.58,
          3.53,
          2.98,
          6.05,
          4.16,
          7.19,
          4.85,
          3.76,
          4.59,
          3.01,
          3.16,
          7.85,
          8.23,
          12.93,
          7.14,
          7.6,
          9.51,
          3.33,
          3.56,
          4.7,
          8.58,
          10.4,
          6.27,
          7.39,
          15.84,
          4.97,
          4.74,
          6.07,
          9.5,
          8.67,
          4.86,
          6.93,
          8.93,
          6.47,
          7.53,
          4.54,
          9.97,
          12.64,
          5.98,
          11.72,
          7.9,
          9.28,
          11.5,
          18.33,
          15.94,
          10.36,
          12.73,
          7.2,
          6.87,
          7.7,
          11.74,
          6.12,
          5.08,
          6.15,
          12.79,
          9.97,
          7.34,
          9.09,
          12.43,
          7.83,
          5.68,
          6.75,
          8.01,
          9.8,
          10.56,
          8.51,
          9.74,
          9.29,
          5.49,
          8.65,
          7.18,
          4.61,
          10.53,
          12.67,
          6.36,
          5.99,
          5.89,
          5.98,
          5.49,
          7.79,
          4.5,
          8.05,
          5.57,
          17.6,
          13.27,
          11.48,
          12.67,
          7.79,
          14.19,
          10.19,
          14.64,
          5.29,
          7.12,
          14,
          13.33,
          3.26,
          3.73,
          2.96,
          9.53,
          8.88,
          34.77,
          37.97,
          13.44,
          23.24,
          21.24,
          23.69,
          21.78,
          17.21,
          21.08,
          23.6,
          24.56,
          30.63,
          30.81,
          28.28,
          31.99,
          30.62,
          20.85,
          17.11,
          18.76,
          25.68,
          15.17,
          16.35,
          17.12,
          19.37,
          19.92,
          30.59,
          29.97,
          26.77,
          20.32,
          20.31,
          19.77,
          27.38,
          22.98,
          23.34,
          12.13,
          26.4,
          19.78,
          10.11,
          21.22,
          34.37,
          20.08,
          36.98,
          29.05,
          25.79,
          26.64,
          20.62,
          22.74,
          15.02,
          15.7,
          14.1,
          23.29,
          17.16,
          24.39,
          15.69,
          14.52,
          21.52,
          24.08,
          17.64,
          19.69,
          12.03,
          16.22,
          15.17,
          23.27,
          18.05,
          26.45,
          34.02,
          22.88,
          22.11,
          19.52,
          16.59,
          18.85,
          23.79,
          23.98,
          17.79,
          16.44,
          18.13,
          19.31,
          17.44,
          17.73,
          17.27,
          16.74,
          18.71,
          18.13,
          19.01,
          16.94,
          16.23,
          14.7,
          16.42,
          14.65,
          13.99,
          10.29,
          13.22,
          14.13,
          17.15,
          21.32,
          18.13,
          14.76,
          16.29,
          12.87,
          14.36,
          11.66,
          18.14,
          24.1,
          18.68,
          24.91,
          18.03,
          13.11,
          10.74,
          7.74,
          7.01,
          10.42,
          13.34,
          10.58,
          14.98,
          11.45,
          18.06,
          23.97,
          29.68,
          18.07,
          13.35,
          12.01,
          13.59,
          17.6,
          21.14,
          14.1,
          12.92,
          15.1,
          14.33,
          9.67,
          9.08,
          5.64,
          6.48,
          7.88
         ],
         "xaxis": "x",
         "y": [
          24,
          21.6,
          34.7,
          33.4,
          36.2,
          28.7,
          22.9,
          27.1,
          16.5,
          18.9,
          15,
          18.9,
          21.7,
          20.4,
          18.2,
          19.9,
          23.1,
          17.5,
          20.2,
          18.2,
          13.6,
          19.6,
          15.2,
          14.5,
          15.6,
          13.9,
          16.6,
          14.8,
          18.4,
          21,
          12.7,
          14.5,
          13.2,
          13.1,
          13.5,
          18.9,
          20,
          21,
          24.7,
          30.8,
          34.9,
          26.6,
          25.3,
          24.7,
          21.2,
          19.3,
          20,
          16.6,
          14.4,
          19.4,
          19.7,
          20.5,
          25,
          23.4,
          18.9,
          35.4,
          24.7,
          31.6,
          23.3,
          19.6,
          18.7,
          16,
          22.2,
          25,
          33,
          23.5,
          19.4,
          22,
          17.4,
          20.9,
          24.2,
          21.7,
          22.8,
          23.4,
          24.1,
          21.4,
          20,
          20.8,
          21.2,
          20.3,
          28,
          23.9,
          24.8,
          22.9,
          23.9,
          26.6,
          22.5,
          22.2,
          23.6,
          28.7,
          22.6,
          22,
          22.9,
          25,
          20.6,
          28.4,
          21.4,
          38.7,
          43.8,
          33.2,
          27.5,
          26.5,
          18.6,
          19.3,
          20.1,
          19.5,
          19.5,
          20.4,
          19.8,
          19.4,
          21.7,
          22.8,
          18.8,
          18.7,
          18.5,
          18.3,
          21.2,
          19.2,
          20.4,
          19.3,
          22,
          20.3,
          20.5,
          17.3,
          18.8,
          21.4,
          15.7,
          16.2,
          18,
          14.3,
          19.2,
          19.6,
          23,
          18.4,
          15.6,
          18.1,
          17.4,
          17.1,
          13.3,
          17.8,
          14,
          14.4,
          13.4,
          15.6,
          11.8,
          13.8,
          15.6,
          14.6,
          17.8,
          15.4,
          21.5,
          19.6,
          15.3,
          19.4,
          17,
          15.6,
          13.1,
          41.3,
          24.3,
          23.3,
          27,
          50,
          50,
          50,
          22.7,
          25,
          50,
          23.8,
          23.8,
          22.3,
          17.4,
          19.1,
          23.1,
          23.6,
          22.6,
          29.4,
          23.2,
          24.6,
          29.9,
          37.2,
          39.8,
          36.2,
          37.9,
          32.5,
          26.4,
          29.6,
          50,
          32,
          29.8,
          34.9,
          37,
          30.5,
          36.4,
          31.1,
          29.1,
          50,
          33.3,
          30.3,
          34.6,
          34.9,
          32.9,
          24.1,
          42.3,
          48.5,
          50,
          22.6,
          24.4,
          22.5,
          24.4,
          20,
          21.7,
          19.3,
          22.4,
          28.1,
          23.7,
          25,
          23.3,
          28.7,
          21.5,
          23,
          26.7,
          21.7,
          27.5,
          30.1,
          44.8,
          50,
          37.6,
          31.6,
          46.7,
          31.5,
          24.3,
          31.7,
          41.7,
          48.3,
          29,
          24,
          25.1,
          31.5,
          23.7,
          23.3,
          22,
          20.1,
          22.2,
          23.7,
          17.6,
          18.5,
          24.3,
          20.5,
          24.5,
          26.2,
          24.4,
          24.8,
          29.6,
          42.8,
          21.9,
          20.9,
          44,
          50,
          36,
          30.1,
          33.8,
          43.1,
          48.8,
          31,
          36.5,
          22.8,
          30.7,
          50,
          43.5,
          20.7,
          21.1,
          25.2,
          24.4,
          35.2,
          32.4,
          32,
          33.2,
          33.1,
          29.1,
          35.1,
          45.4,
          35.4,
          46,
          50,
          32.2,
          22,
          20.1,
          23.2,
          22.3,
          24.8,
          28.5,
          37.3,
          27.9,
          23.9,
          21.7,
          28.6,
          27.1,
          20.3,
          22.5,
          29,
          24.8,
          22,
          26.4,
          33.1,
          36.1,
          28.4,
          33.4,
          28.2,
          22.8,
          20.3,
          16.1,
          22.1,
          19.4,
          21.6,
          23.8,
          16.2,
          17.8,
          19.8,
          23.1,
          21,
          23.8,
          23.1,
          20.4,
          18.5,
          25,
          24.6,
          23,
          22.2,
          19.3,
          22.6,
          19.8,
          17.1,
          19.4,
          22.2,
          20.7,
          21.1,
          19.5,
          18.5,
          20.6,
          19,
          18.7,
          32.7,
          16.5,
          23.9,
          31.2,
          17.5,
          17.2,
          23.1,
          24.5,
          26.6,
          22.9,
          24.1,
          18.6,
          30.1,
          18.2,
          20.6,
          17.8,
          21.7,
          22.7,
          22.6,
          25,
          19.9,
          20.8,
          16.8,
          21.9,
          27.5,
          21.9,
          23.1,
          50,
          50,
          50,
          50,
          50,
          13.8,
          13.8,
          15,
          13.9,
          13.3,
          13.1,
          10.2,
          10.4,
          10.9,
          11.3,
          12.3,
          8.8,
          7.2,
          10.5,
          7.4,
          10.2,
          11.5,
          15.1,
          23.2,
          9.7,
          13.8,
          12.7,
          13.1,
          12.5,
          8.5,
          5,
          6.3,
          5.6,
          7.2,
          12.1,
          8.3,
          8.5,
          5,
          11.9,
          27.9,
          17.2,
          27.5,
          15,
          17.2,
          17.9,
          16.3,
          7,
          7.2,
          7.5,
          10.4,
          8.8,
          8.4,
          16.7,
          14.2,
          20.8,
          13.4,
          11.7,
          8.3,
          10.2,
          10.9,
          11,
          9.5,
          14.5,
          14.1,
          16.1,
          14.3,
          11.7,
          13.4,
          9.6,
          8.7,
          8.4,
          12.8,
          10.5,
          17.1,
          18.4,
          15.4,
          10.8,
          11.8,
          14.9,
          12.6,
          14.1,
          13,
          13.4,
          15.2,
          16.1,
          17.8,
          14.9,
          14.1,
          12.7,
          13.5,
          14.9,
          20,
          16.4,
          17.7,
          19.5,
          20.2,
          21.4,
          19.9,
          19,
          19.1,
          19.1,
          20.1,
          19.9,
          19.6,
          23.2,
          29.8,
          13.8,
          13.3,
          16.7,
          12,
          14.6,
          21.4,
          23,
          23.7,
          25,
          21.8,
          20.6,
          21.2,
          19.1,
          20.6,
          15.2,
          7,
          8.1,
          13.6,
          20.1,
          21.8,
          24.5,
          23.1,
          19.7,
          18.3,
          21.2,
          17.5,
          16.8,
          22.4,
          20.6,
          23.9,
          22,
          11.9
         ],
         "yaxis": "y"
        },
        {
         "line": {
          "color": "#FF6600",
          "width": 1
         },
         "marker": {
          "color": "#FF6600"
         },
         "mode": "markers",
         "type": "scatter",
         "x": [
          6.575,
          6.421,
          7.185,
          6.998,
          7.147,
          6.43,
          6.012,
          6.172,
          5.631,
          6.004,
          6.377,
          6.009,
          5.889,
          5.949,
          6.096,
          5.834,
          5.935,
          5.99,
          5.456,
          5.727,
          5.57,
          5.965,
          6.142,
          5.813,
          5.924,
          5.599,
          5.813,
          6.047,
          6.495,
          6.674,
          5.713,
          6.072,
          5.95,
          5.701,
          6.096,
          5.933,
          5.841,
          5.85,
          5.966,
          6.595,
          7.024,
          6.77,
          6.169,
          6.211,
          6.069,
          5.682,
          5.786,
          6.03,
          5.399,
          5.602,
          5.963,
          6.115,
          6.511,
          5.998,
          5.888,
          7.249,
          6.383,
          6.816,
          6.145,
          5.927,
          5.741,
          5.966,
          6.456,
          6.762,
          7.104,
          6.29,
          5.787,
          5.878,
          5.594,
          5.885,
          6.417,
          5.961,
          6.065,
          6.245,
          6.273,
          6.286,
          6.279,
          6.14,
          6.232,
          5.874,
          6.727,
          6.619,
          6.302,
          6.167,
          6.389,
          6.63,
          6.015,
          6.121,
          7.007,
          7.079,
          6.417,
          6.405,
          6.442,
          6.211,
          6.249,
          6.625,
          6.163,
          8.069,
          7.82,
          7.416,
          6.727,
          6.781,
          6.405,
          6.137,
          6.167,
          5.851,
          5.836,
          6.127,
          6.474,
          6.229,
          6.195,
          6.715,
          5.913,
          6.092,
          6.254,
          5.928,
          6.176,
          6.021,
          5.872,
          5.731,
          5.87,
          6.004,
          5.961,
          5.856,
          5.879,
          5.986,
          5.613,
          5.693,
          6.431,
          5.637,
          6.458,
          6.326,
          6.372,
          5.822,
          5.757,
          6.335,
          5.942,
          6.454,
          5.857,
          6.151,
          6.174,
          5.019,
          5.403,
          5.468,
          4.903,
          6.13,
          5.628,
          4.926,
          5.186,
          5.597,
          6.122,
          5.404,
          5.012,
          5.709,
          6.129,
          6.152,
          5.272,
          6.943,
          6.066,
          6.51,
          6.25,
          7.489,
          7.802,
          8.375,
          5.854,
          6.101,
          7.929,
          5.877,
          6.319,
          6.402,
          5.875,
          5.88,
          5.572,
          6.416,
          5.859,
          6.546,
          6.02,
          6.315,
          6.86,
          6.98,
          7.765,
          6.144,
          7.155,
          6.563,
          5.604,
          6.153,
          7.831,
          6.782,
          6.556,
          7.185,
          6.951,
          6.739,
          7.178,
          6.8,
          6.604,
          7.875,
          7.287,
          7.107,
          7.274,
          6.975,
          7.135,
          6.162,
          7.61,
          7.853,
          8.034,
          5.891,
          6.326,
          5.783,
          6.064,
          5.344,
          5.96,
          5.404,
          5.807,
          6.375,
          5.412,
          6.182,
          5.888,
          6.642,
          5.951,
          6.373,
          6.951,
          6.164,
          6.879,
          6.618,
          8.266,
          8.725,
          8.04,
          7.163,
          7.686,
          6.552,
          5.981,
          7.412,
          8.337,
          8.247,
          6.726,
          6.086,
          6.631,
          7.358,
          6.481,
          6.606,
          6.897,
          6.095,
          6.358,
          6.393,
          5.593,
          5.605,
          6.108,
          6.226,
          6.433,
          6.718,
          6.487,
          6.438,
          6.957,
          8.259,
          6.108,
          5.876,
          7.454,
          8.704,
          7.333,
          6.842,
          7.203,
          7.52,
          8.398,
          7.327,
          7.206,
          5.56,
          7.014,
          8.297,
          7.47,
          5.92,
          5.856,
          6.24,
          6.538,
          7.691,
          6.758,
          6.854,
          7.267,
          6.826,
          6.482,
          6.812,
          7.82,
          6.968,
          7.645,
          7.923,
          7.088,
          6.453,
          6.23,
          6.209,
          6.315,
          6.565,
          6.861,
          7.148,
          6.63,
          6.127,
          6.009,
          6.678,
          6.549,
          5.79,
          6.345,
          7.041,
          6.871,
          6.59,
          6.495,
          6.982,
          7.236,
          6.616,
          7.42,
          6.849,
          6.635,
          5.972,
          4.973,
          6.122,
          6.023,
          6.266,
          6.567,
          5.705,
          5.914,
          5.782,
          6.382,
          6.113,
          6.426,
          6.376,
          6.041,
          5.708,
          6.415,
          6.431,
          6.312,
          6.083,
          5.868,
          6.333,
          6.144,
          5.706,
          6.031,
          6.316,
          6.31,
          6.037,
          5.869,
          5.895,
          6.059,
          5.985,
          5.968,
          7.241,
          6.54,
          6.696,
          6.874,
          6.014,
          5.898,
          6.516,
          6.635,
          6.939,
          6.49,
          6.579,
          5.884,
          6.728,
          5.663,
          5.936,
          6.212,
          6.395,
          6.127,
          6.112,
          6.398,
          6.251,
          5.362,
          5.803,
          8.78,
          3.561,
          4.963,
          3.863,
          4.97,
          6.683,
          7.016,
          6.216,
          5.875,
          4.906,
          4.138,
          7.313,
          6.649,
          6.794,
          6.38,
          6.223,
          6.968,
          6.545,
          5.536,
          5.52,
          4.368,
          5.277,
          4.652,
          5,
          4.88,
          5.39,
          5.713,
          6.051,
          5.036,
          6.193,
          5.887,
          6.471,
          6.405,
          5.747,
          5.453,
          5.852,
          5.987,
          6.343,
          6.404,
          5.349,
          5.531,
          5.683,
          4.138,
          5.608,
          5.617,
          6.852,
          5.757,
          6.657,
          4.628,
          5.155,
          4.519,
          6.434,
          6.782,
          5.304,
          5.957,
          6.824,
          6.411,
          6.006,
          5.648,
          6.103,
          5.565,
          5.896,
          5.837,
          6.202,
          6.193,
          6.38,
          6.348,
          6.833,
          6.425,
          6.436,
          6.208,
          6.629,
          6.461,
          6.152,
          5.935,
          5.627,
          5.818,
          6.406,
          6.219,
          6.485,
          5.854,
          6.459,
          6.341,
          6.251,
          6.185,
          6.417,
          6.749,
          6.655,
          6.297,
          7.393,
          6.728,
          6.525,
          5.976,
          5.936,
          6.301,
          6.081,
          6.701,
          6.376,
          6.317,
          6.513,
          6.209,
          5.759,
          5.952,
          6.003,
          5.926,
          5.713,
          6.167,
          6.229,
          6.437,
          6.98,
          5.427,
          6.162,
          6.484,
          5.304,
          6.185,
          6.229,
          6.242,
          6.75,
          7.061,
          5.762,
          5.871,
          6.312,
          6.114,
          5.905,
          5.454,
          5.414,
          5.093,
          5.983,
          5.983,
          5.707,
          5.926,
          5.67,
          5.39,
          5.794,
          6.019,
          5.569,
          6.027,
          6.593,
          6.12,
          6.976,
          6.794,
          6.03
         ],
         "xaxis": "x2",
         "y": [
          24,
          21.6,
          34.7,
          33.4,
          36.2,
          28.7,
          22.9,
          27.1,
          16.5,
          18.9,
          15,
          18.9,
          21.7,
          20.4,
          18.2,
          19.9,
          23.1,
          17.5,
          20.2,
          18.2,
          13.6,
          19.6,
          15.2,
          14.5,
          15.6,
          13.9,
          16.6,
          14.8,
          18.4,
          21,
          12.7,
          14.5,
          13.2,
          13.1,
          13.5,
          18.9,
          20,
          21,
          24.7,
          30.8,
          34.9,
          26.6,
          25.3,
          24.7,
          21.2,
          19.3,
          20,
          16.6,
          14.4,
          19.4,
          19.7,
          20.5,
          25,
          23.4,
          18.9,
          35.4,
          24.7,
          31.6,
          23.3,
          19.6,
          18.7,
          16,
          22.2,
          25,
          33,
          23.5,
          19.4,
          22,
          17.4,
          20.9,
          24.2,
          21.7,
          22.8,
          23.4,
          24.1,
          21.4,
          20,
          20.8,
          21.2,
          20.3,
          28,
          23.9,
          24.8,
          22.9,
          23.9,
          26.6,
          22.5,
          22.2,
          23.6,
          28.7,
          22.6,
          22,
          22.9,
          25,
          20.6,
          28.4,
          21.4,
          38.7,
          43.8,
          33.2,
          27.5,
          26.5,
          18.6,
          19.3,
          20.1,
          19.5,
          19.5,
          20.4,
          19.8,
          19.4,
          21.7,
          22.8,
          18.8,
          18.7,
          18.5,
          18.3,
          21.2,
          19.2,
          20.4,
          19.3,
          22,
          20.3,
          20.5,
          17.3,
          18.8,
          21.4,
          15.7,
          16.2,
          18,
          14.3,
          19.2,
          19.6,
          23,
          18.4,
          15.6,
          18.1,
          17.4,
          17.1,
          13.3,
          17.8,
          14,
          14.4,
          13.4,
          15.6,
          11.8,
          13.8,
          15.6,
          14.6,
          17.8,
          15.4,
          21.5,
          19.6,
          15.3,
          19.4,
          17,
          15.6,
          13.1,
          41.3,
          24.3,
          23.3,
          27,
          50,
          50,
          50,
          22.7,
          25,
          50,
          23.8,
          23.8,
          22.3,
          17.4,
          19.1,
          23.1,
          23.6,
          22.6,
          29.4,
          23.2,
          24.6,
          29.9,
          37.2,
          39.8,
          36.2,
          37.9,
          32.5,
          26.4,
          29.6,
          50,
          32,
          29.8,
          34.9,
          37,
          30.5,
          36.4,
          31.1,
          29.1,
          50,
          33.3,
          30.3,
          34.6,
          34.9,
          32.9,
          24.1,
          42.3,
          48.5,
          50,
          22.6,
          24.4,
          22.5,
          24.4,
          20,
          21.7,
          19.3,
          22.4,
          28.1,
          23.7,
          25,
          23.3,
          28.7,
          21.5,
          23,
          26.7,
          21.7,
          27.5,
          30.1,
          44.8,
          50,
          37.6,
          31.6,
          46.7,
          31.5,
          24.3,
          31.7,
          41.7,
          48.3,
          29,
          24,
          25.1,
          31.5,
          23.7,
          23.3,
          22,
          20.1,
          22.2,
          23.7,
          17.6,
          18.5,
          24.3,
          20.5,
          24.5,
          26.2,
          24.4,
          24.8,
          29.6,
          42.8,
          21.9,
          20.9,
          44,
          50,
          36,
          30.1,
          33.8,
          43.1,
          48.8,
          31,
          36.5,
          22.8,
          30.7,
          50,
          43.5,
          20.7,
          21.1,
          25.2,
          24.4,
          35.2,
          32.4,
          32,
          33.2,
          33.1,
          29.1,
          35.1,
          45.4,
          35.4,
          46,
          50,
          32.2,
          22,
          20.1,
          23.2,
          22.3,
          24.8,
          28.5,
          37.3,
          27.9,
          23.9,
          21.7,
          28.6,
          27.1,
          20.3,
          22.5,
          29,
          24.8,
          22,
          26.4,
          33.1,
          36.1,
          28.4,
          33.4,
          28.2,
          22.8,
          20.3,
          16.1,
          22.1,
          19.4,
          21.6,
          23.8,
          16.2,
          17.8,
          19.8,
          23.1,
          21,
          23.8,
          23.1,
          20.4,
          18.5,
          25,
          24.6,
          23,
          22.2,
          19.3,
          22.6,
          19.8,
          17.1,
          19.4,
          22.2,
          20.7,
          21.1,
          19.5,
          18.5,
          20.6,
          19,
          18.7,
          32.7,
          16.5,
          23.9,
          31.2,
          17.5,
          17.2,
          23.1,
          24.5,
          26.6,
          22.9,
          24.1,
          18.6,
          30.1,
          18.2,
          20.6,
          17.8,
          21.7,
          22.7,
          22.6,
          25,
          19.9,
          20.8,
          16.8,
          21.9,
          27.5,
          21.9,
          23.1,
          50,
          50,
          50,
          50,
          50,
          13.8,
          13.8,
          15,
          13.9,
          13.3,
          13.1,
          10.2,
          10.4,
          10.9,
          11.3,
          12.3,
          8.8,
          7.2,
          10.5,
          7.4,
          10.2,
          11.5,
          15.1,
          23.2,
          9.7,
          13.8,
          12.7,
          13.1,
          12.5,
          8.5,
          5,
          6.3,
          5.6,
          7.2,
          12.1,
          8.3,
          8.5,
          5,
          11.9,
          27.9,
          17.2,
          27.5,
          15,
          17.2,
          17.9,
          16.3,
          7,
          7.2,
          7.5,
          10.4,
          8.8,
          8.4,
          16.7,
          14.2,
          20.8,
          13.4,
          11.7,
          8.3,
          10.2,
          10.9,
          11,
          9.5,
          14.5,
          14.1,
          16.1,
          14.3,
          11.7,
          13.4,
          9.6,
          8.7,
          8.4,
          12.8,
          10.5,
          17.1,
          18.4,
          15.4,
          10.8,
          11.8,
          14.9,
          12.6,
          14.1,
          13,
          13.4,
          15.2,
          16.1,
          17.8,
          14.9,
          14.1,
          12.7,
          13.5,
          14.9,
          20,
          16.4,
          17.7,
          19.5,
          20.2,
          21.4,
          19.9,
          19,
          19.1,
          19.1,
          20.1,
          19.9,
          19.6,
          23.2,
          29.8,
          13.8,
          13.3,
          16.7,
          12,
          14.6,
          21.4,
          23,
          23.7,
          25,
          21.8,
          20.6,
          21.2,
          19.1,
          20.6,
          15.2,
          7,
          8.1,
          13.6,
          20.1,
          21.8,
          24.5,
          23.1,
          19.7,
          18.3,
          21.2,
          17.5,
          16.8,
          22.4,
          20.6,
          23.9,
          22,
          11.9
         ],
         "yaxis": "y2"
        }
       ],
       "layout": {
        "height": 600,
        "template": {
         "data": {
          "bar": [
           {
            "error_x": {
             "color": "#2a3f5f"
            },
            "error_y": {
             "color": "#2a3f5f"
            },
            "marker": {
             "line": {
              "color": "#E5ECF6",
              "width": 0.5
             },
             "pattern": {
              "fillmode": "overlay",
              "size": 10,
              "solidity": 0.2
             }
            },
            "type": "bar"
           }
          ],
          "barpolar": [
           {
            "marker": {
             "line": {
              "color": "#E5ECF6",
              "width": 0.5
             },
             "pattern": {
              "fillmode": "overlay",
              "size": 10,
              "solidity": 0.2
             }
            },
            "type": "barpolar"
           }
          ],
          "carpet": [
           {
            "aaxis": {
             "endlinecolor": "#2a3f5f",
             "gridcolor": "white",
             "linecolor": "white",
             "minorgridcolor": "white",
             "startlinecolor": "#2a3f5f"
            },
            "baxis": {
             "endlinecolor": "#2a3f5f",
             "gridcolor": "white",
             "linecolor": "white",
             "minorgridcolor": "white",
             "startlinecolor": "#2a3f5f"
            },
            "type": "carpet"
           }
          ],
          "choropleth": [
           {
            "colorbar": {
             "outlinewidth": 0,
             "ticks": ""
            },
            "type": "choropleth"
           }
          ],
          "contour": [
           {
            "colorbar": {
             "outlinewidth": 0,
             "ticks": ""
            },
            "colorscale": [
             [
              0,
              "#0d0887"
             ],
             [
              0.1111111111111111,
              "#46039f"
             ],
             [
              0.2222222222222222,
              "#7201a8"
             ],
             [
              0.3333333333333333,
              "#9c179e"
             ],
             [
              0.4444444444444444,
              "#bd3786"
             ],
             [
              0.5555555555555556,
              "#d8576b"
             ],
             [
              0.6666666666666666,
              "#ed7953"
             ],
             [
              0.7777777777777778,
              "#fb9f3a"
             ],
             [
              0.8888888888888888,
              "#fdca26"
             ],
             [
              1,
              "#f0f921"
             ]
            ],
            "type": "contour"
           }
          ],
          "contourcarpet": [
           {
            "colorbar": {
             "outlinewidth": 0,
             "ticks": ""
            },
            "type": "contourcarpet"
           }
          ],
          "heatmap": [
           {
            "colorbar": {
             "outlinewidth": 0,
             "ticks": ""
            },
            "colorscale": [
             [
              0,
              "#0d0887"
             ],
             [
              0.1111111111111111,
              "#46039f"
             ],
             [
              0.2222222222222222,
              "#7201a8"
             ],
             [
              0.3333333333333333,
              "#9c179e"
             ],
             [
              0.4444444444444444,
              "#bd3786"
             ],
             [
              0.5555555555555556,
              "#d8576b"
             ],
             [
              0.6666666666666666,
              "#ed7953"
             ],
             [
              0.7777777777777778,
              "#fb9f3a"
             ],
             [
              0.8888888888888888,
              "#fdca26"
             ],
             [
              1,
              "#f0f921"
             ]
            ],
            "type": "heatmap"
           }
          ],
          "heatmapgl": [
           {
            "colorbar": {
             "outlinewidth": 0,
             "ticks": ""
            },
            "colorscale": [
             [
              0,
              "#0d0887"
             ],
             [
              0.1111111111111111,
              "#46039f"
             ],
             [
              0.2222222222222222,
              "#7201a8"
             ],
             [
              0.3333333333333333,
              "#9c179e"
             ],
             [
              0.4444444444444444,
              "#bd3786"
             ],
             [
              0.5555555555555556,
              "#d8576b"
             ],
             [
              0.6666666666666666,
              "#ed7953"
             ],
             [
              0.7777777777777778,
              "#fb9f3a"
             ],
             [
              0.8888888888888888,
              "#fdca26"
             ],
             [
              1,
              "#f0f921"
             ]
            ],
            "type": "heatmapgl"
           }
          ],
          "histogram": [
           {
            "marker": {
             "pattern": {
              "fillmode": "overlay",
              "size": 10,
              "solidity": 0.2
             }
            },
            "type": "histogram"
           }
          ],
          "histogram2d": [
           {
            "colorbar": {
             "outlinewidth": 0,
             "ticks": ""
            },
            "colorscale": [
             [
              0,
              "#0d0887"
             ],
             [
              0.1111111111111111,
              "#46039f"
             ],
             [
              0.2222222222222222,
              "#7201a8"
             ],
             [
              0.3333333333333333,
              "#9c179e"
             ],
             [
              0.4444444444444444,
              "#bd3786"
             ],
             [
              0.5555555555555556,
              "#d8576b"
             ],
             [
              0.6666666666666666,
              "#ed7953"
             ],
             [
              0.7777777777777778,
              "#fb9f3a"
             ],
             [
              0.8888888888888888,
              "#fdca26"
             ],
             [
              1,
              "#f0f921"
             ]
            ],
            "type": "histogram2d"
           }
          ],
          "histogram2dcontour": [
           {
            "colorbar": {
             "outlinewidth": 0,
             "ticks": ""
            },
            "colorscale": [
             [
              0,
              "#0d0887"
             ],
             [
              0.1111111111111111,
              "#46039f"
             ],
             [
              0.2222222222222222,
              "#7201a8"
             ],
             [
              0.3333333333333333,
              "#9c179e"
             ],
             [
              0.4444444444444444,
              "#bd3786"
             ],
             [
              0.5555555555555556,
              "#d8576b"
             ],
             [
              0.6666666666666666,
              "#ed7953"
             ],
             [
              0.7777777777777778,
              "#fb9f3a"
             ],
             [
              0.8888888888888888,
              "#fdca26"
             ],
             [
              1,
              "#f0f921"
             ]
            ],
            "type": "histogram2dcontour"
           }
          ],
          "mesh3d": [
           {
            "colorbar": {
             "outlinewidth": 0,
             "ticks": ""
            },
            "type": "mesh3d"
           }
          ],
          "parcoords": [
           {
            "line": {
             "colorbar": {
              "outlinewidth": 0,
              "ticks": ""
             }
            },
            "type": "parcoords"
           }
          ],
          "pie": [
           {
            "automargin": true,
            "type": "pie"
           }
          ],
          "scatter": [
           {
            "marker": {
             "colorbar": {
              "outlinewidth": 0,
              "ticks": ""
             }
            },
            "type": "scatter"
           }
          ],
          "scatter3d": [
           {
            "line": {
             "colorbar": {
              "outlinewidth": 0,
              "ticks": ""
             }
            },
            "marker": {
             "colorbar": {
              "outlinewidth": 0,
              "ticks": ""
             }
            },
            "type": "scatter3d"
           }
          ],
          "scattercarpet": [
           {
            "marker": {
             "colorbar": {
              "outlinewidth": 0,
              "ticks": ""
             }
            },
            "type": "scattercarpet"
           }
          ],
          "scattergeo": [
           {
            "marker": {
             "colorbar": {
              "outlinewidth": 0,
              "ticks": ""
             }
            },
            "type": "scattergeo"
           }
          ],
          "scattergl": [
           {
            "marker": {
             "colorbar": {
              "outlinewidth": 0,
              "ticks": ""
             }
            },
            "type": "scattergl"
           }
          ],
          "scattermapbox": [
           {
            "marker": {
             "colorbar": {
              "outlinewidth": 0,
              "ticks": ""
             }
            },
            "type": "scattermapbox"
           }
          ],
          "scatterpolar": [
           {
            "marker": {
             "colorbar": {
              "outlinewidth": 0,
              "ticks": ""
             }
            },
            "type": "scatterpolar"
           }
          ],
          "scatterpolargl": [
           {
            "marker": {
             "colorbar": {
              "outlinewidth": 0,
              "ticks": ""
             }
            },
            "type": "scatterpolargl"
           }
          ],
          "scatterternary": [
           {
            "marker": {
             "colorbar": {
              "outlinewidth": 0,
              "ticks": ""
             }
            },
            "type": "scatterternary"
           }
          ],
          "surface": [
           {
            "colorbar": {
             "outlinewidth": 0,
             "ticks": ""
            },
            "colorscale": [
             [
              0,
              "#0d0887"
             ],
             [
              0.1111111111111111,
              "#46039f"
             ],
             [
              0.2222222222222222,
              "#7201a8"
             ],
             [
              0.3333333333333333,
              "#9c179e"
             ],
             [
              0.4444444444444444,
              "#bd3786"
             ],
             [
              0.5555555555555556,
              "#d8576b"
             ],
             [
              0.6666666666666666,
              "#ed7953"
             ],
             [
              0.7777777777777778,
              "#fb9f3a"
             ],
             [
              0.8888888888888888,
              "#fdca26"
             ],
             [
              1,
              "#f0f921"
             ]
            ],
            "type": "surface"
           }
          ],
          "table": [
           {
            "cells": {
             "fill": {
              "color": "#EBF0F8"
             },
             "line": {
              "color": "white"
             }
            },
            "header": {
             "fill": {
              "color": "#C8D4E3"
             },
             "line": {
              "color": "white"
             }
            },
            "type": "table"
           }
          ]
         },
         "layout": {
          "annotationdefaults": {
           "arrowcolor": "#2a3f5f",
           "arrowhead": 0,
           "arrowwidth": 1
          },
          "autotypenumbers": "strict",
          "coloraxis": {
           "colorbar": {
            "outlinewidth": 0,
            "ticks": ""
           }
          },
          "colorscale": {
           "diverging": [
            [
             0,
             "#8e0152"
            ],
            [
             0.1,
             "#c51b7d"
            ],
            [
             0.2,
             "#de77ae"
            ],
            [
             0.3,
             "#f1b6da"
            ],
            [
             0.4,
             "#fde0ef"
            ],
            [
             0.5,
             "#f7f7f7"
            ],
            [
             0.6,
             "#e6f5d0"
            ],
            [
             0.7,
             "#b8e186"
            ],
            [
             0.8,
             "#7fbc41"
            ],
            [
             0.9,
             "#4d9221"
            ],
            [
             1,
             "#276419"
            ]
           ],
           "sequential": [
            [
             0,
             "#0d0887"
            ],
            [
             0.1111111111111111,
             "#46039f"
            ],
            [
             0.2222222222222222,
             "#7201a8"
            ],
            [
             0.3333333333333333,
             "#9c179e"
            ],
            [
             0.4444444444444444,
             "#bd3786"
            ],
            [
             0.5555555555555556,
             "#d8576b"
            ],
            [
             0.6666666666666666,
             "#ed7953"
            ],
            [
             0.7777777777777778,
             "#fb9f3a"
            ],
            [
             0.8888888888888888,
             "#fdca26"
            ],
            [
             1,
             "#f0f921"
            ]
           ],
           "sequentialminus": [
            [
             0,
             "#0d0887"
            ],
            [
             0.1111111111111111,
             "#46039f"
            ],
            [
             0.2222222222222222,
             "#7201a8"
            ],
            [
             0.3333333333333333,
             "#9c179e"
            ],
            [
             0.4444444444444444,
             "#bd3786"
            ],
            [
             0.5555555555555556,
             "#d8576b"
            ],
            [
             0.6666666666666666,
             "#ed7953"
            ],
            [
             0.7777777777777778,
             "#fb9f3a"
            ],
            [
             0.8888888888888888,
             "#fdca26"
            ],
            [
             1,
             "#f0f921"
            ]
           ]
          },
          "colorway": [
           "#636efa",
           "#EF553B",
           "#00cc96",
           "#ab63fa",
           "#FFA15A",
           "#19d3f3",
           "#FF6692",
           "#B6E880",
           "#FF97FF",
           "#FECB52"
          ],
          "font": {
           "color": "#2a3f5f"
          },
          "geo": {
           "bgcolor": "white",
           "lakecolor": "white",
           "landcolor": "#E5ECF6",
           "showlakes": true,
           "showland": true,
           "subunitcolor": "white"
          },
          "hoverlabel": {
           "align": "left"
          },
          "hovermode": "closest",
          "mapbox": {
           "style": "light"
          },
          "paper_bgcolor": "white",
          "plot_bgcolor": "#E5ECF6",
          "polar": {
           "angularaxis": {
            "gridcolor": "white",
            "linecolor": "white",
            "ticks": ""
           },
           "bgcolor": "#E5ECF6",
           "radialaxis": {
            "gridcolor": "white",
            "linecolor": "white",
            "ticks": ""
           }
          },
          "scene": {
           "xaxis": {
            "backgroundcolor": "#E5ECF6",
            "gridcolor": "white",
            "gridwidth": 2,
            "linecolor": "white",
            "showbackground": true,
            "ticks": "",
            "zerolinecolor": "white"
           },
           "yaxis": {
            "backgroundcolor": "#E5ECF6",
            "gridcolor": "white",
            "gridwidth": 2,
            "linecolor": "white",
            "showbackground": true,
            "ticks": "",
            "zerolinecolor": "white"
           },
           "zaxis": {
            "backgroundcolor": "#E5ECF6",
            "gridcolor": "white",
            "gridwidth": 2,
            "linecolor": "white",
            "showbackground": true,
            "ticks": "",
            "zerolinecolor": "white"
           }
          },
          "shapedefaults": {
           "line": {
            "color": "#2a3f5f"
           }
          },
          "ternary": {
           "aaxis": {
            "gridcolor": "white",
            "linecolor": "white",
            "ticks": ""
           },
           "baxis": {
            "gridcolor": "white",
            "linecolor": "white",
            "ticks": ""
           },
           "bgcolor": "#E5ECF6",
           "caxis": {
            "gridcolor": "white",
            "linecolor": "white",
            "ticks": ""
           }
          },
          "title": {
           "x": 0.05
          },
          "xaxis": {
           "automargin": true,
           "gridcolor": "white",
           "linecolor": "white",
           "ticks": "",
           "title": {
            "standoff": 15
           },
           "zerolinecolor": "white",
           "zerolinewidth": 2
          },
          "yaxis": {
           "automargin": true,
           "gridcolor": "white",
           "linecolor": "white",
           "ticks": "",
           "title": {
            "standoff": 15
           },
           "zerolinecolor": "white",
           "zerolinewidth": 2
          }
         }
        },
        "title": {
         "text": "Variation in Housing Prices"
        },
        "width": 1400,
        "xaxis": {
         "anchor": "y",
         "domain": [
          0,
          0.45
         ],
         "title": {
          "text": "Lower State Population (%)"
         }
        },
        "xaxis2": {
         "anchor": "y2",
         "domain": [
          0.55,
          1
         ],
         "title": {
          "text": "Number of Rooms"
         }
        },
        "yaxis": {
         "anchor": "x",
         "domain": [
          0,
          1
         ],
         "title": {
          "text": "House Prices ($1000)"
         }
        },
        "yaxis2": {
         "anchor": "x2",
         "domain": [
          0,
          1
         ]
        }
       }
      }
     },
     "metadata": {},
     "output_type": "display_data"
    }
   ],
   "source": [
    "import plotly.express as px\n",
    "from plotly.subplots import make_subplots\n",
    "import plotly.graph_objs as go\n",
    "\n",
    "fig = make_subplots(\n",
    "rows=1, cols=2\n",
    "# subplot_titles=(\"Plot 1\", \"Plot 2\", \"Plot 3\", \"Plot 4\")\n",
    ")\n",
    "\n",
    "fig.add_trace(\n",
    "    go.Scatter(x=bos_df[\"LSTAT\"],y=bos_df['PRICE'],mode='markers',\n",
    "    marker=dict(\n",
    "            color=\"#003366\"),\n",
    "        line=dict(color=\"#003366\",width=1)),\n",
    "    row=1, col=1\n",
    ")\n",
    "\n",
    "fig.add_trace(\n",
    "    go.Scatter(x=bos_df['RM'],y=bos_df['PRICE'],mode='markers',\n",
    "    marker=dict(\n",
    "            color=\"#FF6600\"),\n",
    "        line=dict(color=\"#FF6600\",width=1)),\n",
    "    row=1, col=2\n",
    ")\n",
    "\n",
    "# Update xaxis properties\n",
    "fig.update_xaxes(title_text=\"Lower State Population (%)\", row=1, col=1)\n",
    "fig.update_xaxes(title_text=\"Number of Rooms\", row=1, col=2)\n",
    "\n",
    "# Update yaxis properties\n",
    "fig.update_yaxes(title_text=\"House Prices ($1000)\", row=1, col=1)\n",
    "# fig.update_yaxes(title_text=\"yaxis 2 title\", range=[40, 80], row=1, col=2)\n",
    "# Update title and height\n",
    "fig.update_layout(height=600, width=1400, title_text=\"Variation in Housing Prices\")\n",
    "output_file=\"app/static/baseimage.svg\"\n",
    "fig.write_image(output_file,width=1200,engine=\"kaleido\")\n",
    "fig.show()"
   ]
  },
  {
   "cell_type": "code",
   "execution_count": 9,
   "metadata": {},
   "outputs": [],
   "source": [
    "import pandas as pd\n",
    "import numpy as np\n",
    "import matplotlib.pyplot as plt\n",
    "import seaborn as sns\n",
    "from sklearn.datasets import load_boston\n",
    "import warnings\n",
    "from sklearn.model_selection import cross_val_score\n",
    "from sklearn.linear_model import Ridge, Lasso, LinearRegression\n",
    "from sklearn.tree import DecisionTreeRegressor\n",
    "from sklearn.ensemble import GradientBoostingRegressor, BaggingRegressor, RandomForestRegressor, StackingRegressor\n",
    "from xgboost import XGBRegressor\n",
    "from lightgbm import LGBMRegressor"
   ]
  },
  {
   "cell_type": "code",
   "execution_count": 10,
   "metadata": {},
   "outputs": [
    {
     "name": "stdout",
     "output_type": "stream",
     "text": [
      "R2 Score:  0.6999369048107489\n",
      "RMSE:  4.364352563544258\n"
     ]
    }
   ],
   "source": [
    "# Apply Linear Regression Model as Base Model\n",
    "lr = LinearRegression()\n",
    "pred_lr = lr.fit(X_train, y_train).predict(X_test)\n",
    "\n",
    "# Checking Model Metrics\n",
    "from sklearn.metrics import r2_score, mean_squared_error\n",
    "print(\"R2 Score: \", r2_score(y_test, pred_lr))\n",
    "print(\"RMSE: \", np.sqrt(mean_squared_error(y_test, pred_lr)))"
   ]
  },
  {
   "cell_type": "code",
   "execution_count": 11,
   "metadata": {},
   "outputs": [],
   "source": [
    "# Get a List of Models as Base Models\n",
    "def base_models():\n",
    "  models = dict()\n",
    "  models['lr'] = LinearRegression()\n",
    "  models[\"Ridge\"] = Ridge()\n",
    "  models[\"Lasso\"] = Lasso()\n",
    "  models[\"Tree\"] = DecisionTreeRegressor()\n",
    "  models[\"Random Forest\"] = RandomForestRegressor()\n",
    "  models[\"Bagging\"] = BaggingRegressor()\n",
    "  models[\"GBM\"] = GradientBoostingRegressor()\n",
    "  return models"
   ]
  },
  {
   "cell_type": "code",
   "execution_count": 12,
   "metadata": {},
   "outputs": [],
   "source": [
    "# Now we will apply K Fold Cross Validation. We will now create a evaluate function with Repeated Stratified K Fold\n",
    "# And Capture the Cross Val Score\n",
    "from sklearn.model_selection import RepeatedKFold\n",
    "from matplotlib import pyplot\n",
    "\n",
    "# Function to evaluate the list of models\n",
    "def eval_models(model):\n",
    "  cv = RepeatedKFold(n_splits=10, n_repeats=3, random_state=1)\n",
    "  scores = -cross_val_score(model, boston.data, boston.target, scoring='neg_mean_absolute_error', cv=cv, n_jobs=-1, \n",
    "                            error_score='raise')\n",
    "  return scores"
   ]
  },
  {
   "cell_type": "code",
   "execution_count": 13,
   "metadata": {},
   "outputs": [
    {
     "name": "stdout",
     "output_type": "stream",
     "text": [
      ">lr 3.391 (0.530)\n",
      ">Ridge 3.382 (0.519)\n",
      ">Lasso 3.711 (0.549)\n",
      ">Tree 2.918 (0.529)\n",
      ">Random Forest 2.198 (0.345)\n",
      ">Bagging 2.334 (0.395)\n",
      ">GBM 2.089 (0.273)\n"
     ]
    }
   ],
   "source": [
    "# get the models to evaluate\n",
    "models = base_models()\n",
    "# evaluate the models and store results\n",
    "results, names = list(), list() \n",
    "\n",
    "for name, model in models.items():\n",
    "  scores = eval_models(model)\n",
    "  results.append(scores)\n",
    "  names.append(name)\n",
    "  print('>%s %.3f (%.3f)' % (name, scores.mean(), scores.std()))"
   ]
  },
  {
   "cell_type": "code",
   "execution_count": 14,
   "metadata": {},
   "outputs": [
    {
     "data": {
      "text/html": [
       "<div>\n",
       "<style scoped>\n",
       "    .dataframe tbody tr th:only-of-type {\n",
       "        vertical-align: middle;\n",
       "    }\n",
       "\n",
       "    .dataframe tbody tr th {\n",
       "        vertical-align: top;\n",
       "    }\n",
       "\n",
       "    .dataframe thead th {\n",
       "        text-align: right;\n",
       "    }\n",
       "</style>\n",
       "<table border=\"1\" class=\"dataframe\">\n",
       "  <thead>\n",
       "    <tr style=\"text-align: right;\">\n",
       "      <th></th>\n",
       "      <th>index</th>\n",
       "      <th>variable</th>\n",
       "      <th>value</th>\n",
       "    </tr>\n",
       "  </thead>\n",
       "  <tbody>\n",
       "    <tr>\n",
       "      <th>0</th>\n",
       "      <td>0</td>\n",
       "      <td>lr</td>\n",
       "      <td>3.745638</td>\n",
       "    </tr>\n",
       "    <tr>\n",
       "      <th>1</th>\n",
       "      <td>1</td>\n",
       "      <td>lr</td>\n",
       "      <td>3.691066</td>\n",
       "    </tr>\n",
       "    <tr>\n",
       "      <th>2</th>\n",
       "      <td>2</td>\n",
       "      <td>lr</td>\n",
       "      <td>2.304415</td>\n",
       "    </tr>\n",
       "    <tr>\n",
       "      <th>3</th>\n",
       "      <td>3</td>\n",
       "      <td>lr</td>\n",
       "      <td>4.416883</td>\n",
       "    </tr>\n",
       "    <tr>\n",
       "      <th>4</th>\n",
       "      <td>4</td>\n",
       "      <td>lr</td>\n",
       "      <td>2.700048</td>\n",
       "    </tr>\n",
       "    <tr>\n",
       "      <th>...</th>\n",
       "      <td>...</td>\n",
       "      <td>...</td>\n",
       "      <td>...</td>\n",
       "    </tr>\n",
       "    <tr>\n",
       "      <th>205</th>\n",
       "      <td>25</td>\n",
       "      <td>GBM</td>\n",
       "      <td>2.330780</td>\n",
       "    </tr>\n",
       "    <tr>\n",
       "      <th>206</th>\n",
       "      <td>26</td>\n",
       "      <td>GBM</td>\n",
       "      <td>2.096444</td>\n",
       "    </tr>\n",
       "    <tr>\n",
       "      <th>207</th>\n",
       "      <td>27</td>\n",
       "      <td>GBM</td>\n",
       "      <td>1.915275</td>\n",
       "    </tr>\n",
       "    <tr>\n",
       "      <th>208</th>\n",
       "      <td>28</td>\n",
       "      <td>GBM</td>\n",
       "      <td>1.902890</td>\n",
       "    </tr>\n",
       "    <tr>\n",
       "      <th>209</th>\n",
       "      <td>29</td>\n",
       "      <td>GBM</td>\n",
       "      <td>1.931274</td>\n",
       "    </tr>\n",
       "  </tbody>\n",
       "</table>\n",
       "<p>210 rows × 3 columns</p>\n",
       "</div>"
      ],
      "text/plain": [
       "     index variable     value\n",
       "0        0       lr  3.745638\n",
       "1        1       lr  3.691066\n",
       "2        2       lr  2.304415\n",
       "3        3       lr  4.416883\n",
       "4        4       lr  2.700048\n",
       "..     ...      ...       ...\n",
       "205     25      GBM  2.330780\n",
       "206     26      GBM  2.096444\n",
       "207     27      GBM  1.915275\n",
       "208     28      GBM  1.902890\n",
       "209     29      GBM  1.931274\n",
       "\n",
       "[210 rows x 3 columns]"
      ]
     },
     "execution_count": 14,
     "metadata": {},
     "output_type": "execute_result"
    }
   ],
   "source": [
    "regressmod = pd.DataFrame(np.transpose(results), columns = [\"lr\",\"Ridge\",\"Lasso\",\"Tree\",\"Random Forest\",\"Bagging\",\"GBM\"])\n",
    "regressmod = pd.melt(regressmod.reset_index(), id_vars='index',value_vars=[\"lr\",\"Ridge\",\"Lasso\",\"Tree\",\"Random Forest\",\"Bagging\",\"GBM\"])\n",
    "regressmod"
   ]
  },
  {
   "cell_type": "code",
   "execution_count": 15,
   "metadata": {},
   "outputs": [
    {
     "data": {
      "application/vnd.plotly.v1+json": {
       "config": {
        "plotlyServerURL": "https://plot.ly"
       },
       "data": [
        {
         "alignmentgroup": "True",
         "boxpoints": "all",
         "hovertemplate": "variable=%{x}<br>value=%{y}<extra></extra>",
         "legendgroup": "lr",
         "marker": {
          "color": "#636efa"
         },
         "name": "lr",
         "notched": false,
         "offsetgroup": "lr",
         "orientation": "v",
         "showlegend": true,
         "type": "box",
         "x": [
          "lr",
          "lr",
          "lr",
          "lr",
          "lr",
          "lr",
          "lr",
          "lr",
          "lr",
          "lr",
          "lr",
          "lr",
          "lr",
          "lr",
          "lr",
          "lr",
          "lr",
          "lr",
          "lr",
          "lr",
          "lr",
          "lr",
          "lr",
          "lr",
          "lr",
          "lr",
          "lr",
          "lr",
          "lr",
          "lr"
         ],
         "x0": " ",
         "xaxis": "x",
         "y": [
          3.7456376770292295,
          3.6910664329493343,
          2.304415371192025,
          4.416883456974291,
          2.700048457785547,
          3.2982757987248092,
          3.1195641973960626,
          3.978499195410447,
          3.86945088620231,
          2.790027841230834,
          2.707245633700694,
          4.142071365516613,
          3.2549854390086717,
          3.577328050799198,
          3.378242557290704,
          3.105189227556569,
          4.403236524242124,
          3.532291618799224,
          3.4033423887234875,
          2.679791393048437,
          3.2347355738055,
          2.7680962609664683,
          3.25001530825106,
          3.8423162880953363,
          4.151965619516657,
          3.549150718248524,
          3.5550785734868797,
          3.473440314920644,
          2.8846400091744817,
          2.9159121595893356
         ],
         "y0": " ",
         "yaxis": "y"
        },
        {
         "alignmentgroup": "True",
         "boxpoints": "all",
         "hovertemplate": "variable=%{x}<br>value=%{y}<extra></extra>",
         "legendgroup": "Ridge",
         "marker": {
          "color": "#EF553B"
         },
         "name": "Ridge",
         "notched": false,
         "offsetgroup": "Ridge",
         "orientation": "v",
         "showlegend": true,
         "type": "box",
         "x": [
          "Ridge",
          "Ridge",
          "Ridge",
          "Ridge",
          "Ridge",
          "Ridge",
          "Ridge",
          "Ridge",
          "Ridge",
          "Ridge",
          "Ridge",
          "Ridge",
          "Ridge",
          "Ridge",
          "Ridge",
          "Ridge",
          "Ridge",
          "Ridge",
          "Ridge",
          "Ridge",
          "Ridge",
          "Ridge",
          "Ridge",
          "Ridge",
          "Ridge",
          "Ridge",
          "Ridge",
          "Ridge",
          "Ridge",
          "Ridge"
         ],
         "x0": " ",
         "xaxis": "x",
         "y": [
          3.686656554517938,
          3.69949707373542,
          2.2741879142702635,
          4.4753480850149305,
          2.656233683701422,
          3.326879903182347,
          3.0543345652658207,
          3.892143282836195,
          3.8550940148264887,
          2.8123378373232164,
          2.7044967495388335,
          4.180526575293837,
          3.3403814443252235,
          3.4930694898170302,
          3.3819494706043276,
          3.1555721709213933,
          4.233682379746549,
          3.510468372467947,
          3.391810106294148,
          2.72686174185422,
          3.229362104865443,
          2.8197925215758843,
          3.2054038964355156,
          3.801383825696468,
          4.149623122497549,
          3.517046254535743,
          3.5456400041014837,
          3.550849674949924,
          2.879937159716621,
          2.907037226567195
         ],
         "y0": " ",
         "yaxis": "y"
        },
        {
         "alignmentgroup": "True",
         "boxpoints": "all",
         "hovertemplate": "variable=%{x}<br>value=%{y}<extra></extra>",
         "legendgroup": "Lasso",
         "marker": {
          "color": "#00cc96"
         },
         "name": "Lasso",
         "notched": false,
         "offsetgroup": "Lasso",
         "orientation": "v",
         "showlegend": true,
         "type": "box",
         "x": [
          "Lasso",
          "Lasso",
          "Lasso",
          "Lasso",
          "Lasso",
          "Lasso",
          "Lasso",
          "Lasso",
          "Lasso",
          "Lasso",
          "Lasso",
          "Lasso",
          "Lasso",
          "Lasso",
          "Lasso",
          "Lasso",
          "Lasso",
          "Lasso",
          "Lasso",
          "Lasso",
          "Lasso",
          "Lasso",
          "Lasso",
          "Lasso",
          "Lasso",
          "Lasso",
          "Lasso",
          "Lasso",
          "Lasso",
          "Lasso"
         ],
         "x0": " ",
         "xaxis": "x",
         "y": [
          3.977293307892643,
          4.483238904818818,
          2.6565797291162063,
          4.619566450285276,
          3.114977158669463,
          3.6607791154372165,
          3.1440688722183796,
          4.173078439916363,
          4.179618558704309,
          3.044134424893916,
          2.9317975554991595,
          4.32898957960866,
          3.733800521341742,
          4.115432162597729,
          4.076364198209605,
          3.3412521353539937,
          4.576089628025826,
          3.8742559442985307,
          3.3454618689022366,
          2.945487970531147,
          3.4882001675128125,
          3.2456090386315757,
          3.617431167069833,
          3.816419851050481,
          4.559392268836326,
          3.8088710832379773,
          3.7710108036974788,
          4.325003728745685,
          3.108865413413454,
          3.2647256399763256
         ],
         "y0": " ",
         "yaxis": "y"
        },
        {
         "alignmentgroup": "True",
         "boxpoints": "all",
         "hovertemplate": "variable=%{x}<br>value=%{y}<extra></extra>",
         "legendgroup": "Tree",
         "marker": {
          "color": "#ab63fa"
         },
         "name": "Tree",
         "notched": false,
         "offsetgroup": "Tree",
         "orientation": "v",
         "showlegend": true,
         "type": "box",
         "x": [
          "Tree",
          "Tree",
          "Tree",
          "Tree",
          "Tree",
          "Tree",
          "Tree",
          "Tree",
          "Tree",
          "Tree",
          "Tree",
          "Tree",
          "Tree",
          "Tree",
          "Tree",
          "Tree",
          "Tree",
          "Tree",
          "Tree",
          "Tree",
          "Tree",
          "Tree",
          "Tree",
          "Tree",
          "Tree",
          "Tree",
          "Tree",
          "Tree",
          "Tree",
          "Tree"
         ],
         "x0": " ",
         "xaxis": "x",
         "y": [
          2.6921568627450987,
          2.570588235294117,
          3.5156862745098043,
          4.4411764705882355,
          2.2803921568627445,
          2.478431372549019,
          2.804,
          3.5140000000000002,
          2.53,
          2.2459999999999996,
          2.2235294117647055,
          3.496078431372548,
          2.8823529411764706,
          3.0588235294117645,
          2.327450980392156,
          2.6764705882352935,
          2.826,
          3.74,
          2.7159999999999997,
          3.1659999999999995,
          2.8058823529411767,
          1.9607843137254897,
          3.264705882352941,
          3.537254901960785,
          3.531372549019608,
          2.99607843137255,
          2.826,
          2.7599999999999993,
          3.05,
          2.6140000000000003
         ],
         "y0": " ",
         "yaxis": "y"
        },
        {
         "alignmentgroup": "True",
         "boxpoints": "all",
         "hovertemplate": "variable=%{x}<br>value=%{y}<extra></extra>",
         "legendgroup": "Random Forest",
         "marker": {
          "color": "#FFA15A"
         },
         "name": "Random Forest",
         "notched": false,
         "offsetgroup": "Random Forest",
         "orientation": "v",
         "showlegend": true,
         "type": "box",
         "x": [
          "Random Forest",
          "Random Forest",
          "Random Forest",
          "Random Forest",
          "Random Forest",
          "Random Forest",
          "Random Forest",
          "Random Forest",
          "Random Forest",
          "Random Forest",
          "Random Forest",
          "Random Forest",
          "Random Forest",
          "Random Forest",
          "Random Forest",
          "Random Forest",
          "Random Forest",
          "Random Forest",
          "Random Forest",
          "Random Forest",
          "Random Forest",
          "Random Forest",
          "Random Forest",
          "Random Forest",
          "Random Forest",
          "Random Forest",
          "Random Forest",
          "Random Forest",
          "Random Forest",
          "Random Forest"
         ],
         "x0": " ",
         "xaxis": "x",
         "y": [
          1.9307647058823532,
          2.3739215686274506,
          1.8082745098039212,
          3.3108235294117625,
          1.8889803921568638,
          2.132176470588237,
          2.083600000000002,
          2.757299999999999,
          2.1354,
          1.5448,
          1.966039215686273,
          2.5425294117647024,
          2.15813725490196,
          2.0113725490196077,
          1.8573137254901986,
          2.2498235294117643,
          2.06248,
          2.7141799999999994,
          2.3353000000000024,
          2.1451,
          2.4444705882352933,
          1.6836274509803937,
          2.3152745098039214,
          2.440843137254901,
          2.4272941176470573,
          2.231117647058825,
          2.050360000000002,
          2.3319,
          2.0850800000000014,
          1.9255400000000003
         ],
         "y0": " ",
         "yaxis": "y"
        },
        {
         "alignmentgroup": "True",
         "boxpoints": "all",
         "hovertemplate": "variable=%{x}<br>value=%{y}<extra></extra>",
         "legendgroup": "Bagging",
         "marker": {
          "color": "#19d3f3"
         },
         "name": "Bagging",
         "notched": false,
         "offsetgroup": "Bagging",
         "orientation": "v",
         "showlegend": true,
         "type": "box",
         "x": [
          "Bagging",
          "Bagging",
          "Bagging",
          "Bagging",
          "Bagging",
          "Bagging",
          "Bagging",
          "Bagging",
          "Bagging",
          "Bagging",
          "Bagging",
          "Bagging",
          "Bagging",
          "Bagging",
          "Bagging",
          "Bagging",
          "Bagging",
          "Bagging",
          "Bagging",
          "Bagging",
          "Bagging",
          "Bagging",
          "Bagging",
          "Bagging",
          "Bagging",
          "Bagging",
          "Bagging",
          "Bagging",
          "Bagging",
          "Bagging"
         ],
         "x0": " ",
         "xaxis": "x",
         "y": [
          2.0290196078431375,
          2.33921568627451,
          2.023921568627451,
          3.351372549019607,
          1.9123529411764708,
          2.3117647058823527,
          2.403,
          3.0184,
          2.1319999999999997,
          1.7083999999999995,
          1.9133333333333333,
          2.7125490196078443,
          2.3207843137254898,
          1.9780392156862738,
          2.006078431372549,
          1.903529411764706,
          2.4135999999999997,
          3.117400000000001,
          2.631799999999999,
          2.1109999999999998,
          2.5350980392156868,
          2.130980392156862,
          2.6427450980392155,
          2.4378431372549025,
          2.890588235294117,
          2.1111764705882345,
          2.0067999999999997,
          2.6422000000000003,
          2.2984,
          1.9794
         ],
         "y0": " ",
         "yaxis": "y"
        },
        {
         "alignmentgroup": "True",
         "boxpoints": "all",
         "hovertemplate": "variable=%{x}<br>value=%{y}<extra></extra>",
         "legendgroup": "GBM",
         "marker": {
          "color": "#FF6692"
         },
         "name": "GBM",
         "notched": false,
         "offsetgroup": "GBM",
         "orientation": "v",
         "showlegend": true,
         "type": "box",
         "x": [
          "GBM",
          "GBM",
          "GBM",
          "GBM",
          "GBM",
          "GBM",
          "GBM",
          "GBM",
          "GBM",
          "GBM",
          "GBM",
          "GBM",
          "GBM",
          "GBM",
          "GBM",
          "GBM",
          "GBM",
          "GBM",
          "GBM",
          "GBM",
          "GBM",
          "GBM",
          "GBM",
          "GBM",
          "GBM",
          "GBM",
          "GBM",
          "GBM",
          "GBM",
          "GBM"
         ],
         "x0": " ",
         "xaxis": "x",
         "y": [
          2.1358519737348156,
          2.055466830960949,
          1.6716474938788508,
          2.712707487547566,
          1.640386445995783,
          2.1881968737105018,
          2.1669592899261385,
          2.3795358646872278,
          2.2301971148614372,
          1.7487054339566541,
          1.9760484785095227,
          2.463646695375886,
          1.8597134501624002,
          1.8093113181065552,
          1.8004137295018814,
          1.9572117269023686,
          1.8949303808767244,
          2.5684855377320996,
          2.3087288390983667,
          1.969658916031512,
          2.272419493878295,
          1.7434391437727872,
          2.138313938662498,
          2.329560083510756,
          2.484756536177215,
          2.3307803256026114,
          2.096444225899896,
          1.9152750237562817,
          1.9028896764512149,
          1.931274041547965
         ],
         "y0": " ",
         "yaxis": "y"
        }
       ],
       "layout": {
        "boxmode": "overlay",
        "legend": {
         "title": {
          "text": "variable"
         },
         "tracegroupgap": 0
        },
        "margin": {
         "t": 60
        },
        "template": {
         "data": {
          "bar": [
           {
            "error_x": {
             "color": "#2a3f5f"
            },
            "error_y": {
             "color": "#2a3f5f"
            },
            "marker": {
             "line": {
              "color": "#E5ECF6",
              "width": 0.5
             },
             "pattern": {
              "fillmode": "overlay",
              "size": 10,
              "solidity": 0.2
             }
            },
            "type": "bar"
           }
          ],
          "barpolar": [
           {
            "marker": {
             "line": {
              "color": "#E5ECF6",
              "width": 0.5
             },
             "pattern": {
              "fillmode": "overlay",
              "size": 10,
              "solidity": 0.2
             }
            },
            "type": "barpolar"
           }
          ],
          "carpet": [
           {
            "aaxis": {
             "endlinecolor": "#2a3f5f",
             "gridcolor": "white",
             "linecolor": "white",
             "minorgridcolor": "white",
             "startlinecolor": "#2a3f5f"
            },
            "baxis": {
             "endlinecolor": "#2a3f5f",
             "gridcolor": "white",
             "linecolor": "white",
             "minorgridcolor": "white",
             "startlinecolor": "#2a3f5f"
            },
            "type": "carpet"
           }
          ],
          "choropleth": [
           {
            "colorbar": {
             "outlinewidth": 0,
             "ticks": ""
            },
            "type": "choropleth"
           }
          ],
          "contour": [
           {
            "colorbar": {
             "outlinewidth": 0,
             "ticks": ""
            },
            "colorscale": [
             [
              0,
              "#0d0887"
             ],
             [
              0.1111111111111111,
              "#46039f"
             ],
             [
              0.2222222222222222,
              "#7201a8"
             ],
             [
              0.3333333333333333,
              "#9c179e"
             ],
             [
              0.4444444444444444,
              "#bd3786"
             ],
             [
              0.5555555555555556,
              "#d8576b"
             ],
             [
              0.6666666666666666,
              "#ed7953"
             ],
             [
              0.7777777777777778,
              "#fb9f3a"
             ],
             [
              0.8888888888888888,
              "#fdca26"
             ],
             [
              1,
              "#f0f921"
             ]
            ],
            "type": "contour"
           }
          ],
          "contourcarpet": [
           {
            "colorbar": {
             "outlinewidth": 0,
             "ticks": ""
            },
            "type": "contourcarpet"
           }
          ],
          "heatmap": [
           {
            "colorbar": {
             "outlinewidth": 0,
             "ticks": ""
            },
            "colorscale": [
             [
              0,
              "#0d0887"
             ],
             [
              0.1111111111111111,
              "#46039f"
             ],
             [
              0.2222222222222222,
              "#7201a8"
             ],
             [
              0.3333333333333333,
              "#9c179e"
             ],
             [
              0.4444444444444444,
              "#bd3786"
             ],
             [
              0.5555555555555556,
              "#d8576b"
             ],
             [
              0.6666666666666666,
              "#ed7953"
             ],
             [
              0.7777777777777778,
              "#fb9f3a"
             ],
             [
              0.8888888888888888,
              "#fdca26"
             ],
             [
              1,
              "#f0f921"
             ]
            ],
            "type": "heatmap"
           }
          ],
          "heatmapgl": [
           {
            "colorbar": {
             "outlinewidth": 0,
             "ticks": ""
            },
            "colorscale": [
             [
              0,
              "#0d0887"
             ],
             [
              0.1111111111111111,
              "#46039f"
             ],
             [
              0.2222222222222222,
              "#7201a8"
             ],
             [
              0.3333333333333333,
              "#9c179e"
             ],
             [
              0.4444444444444444,
              "#bd3786"
             ],
             [
              0.5555555555555556,
              "#d8576b"
             ],
             [
              0.6666666666666666,
              "#ed7953"
             ],
             [
              0.7777777777777778,
              "#fb9f3a"
             ],
             [
              0.8888888888888888,
              "#fdca26"
             ],
             [
              1,
              "#f0f921"
             ]
            ],
            "type": "heatmapgl"
           }
          ],
          "histogram": [
           {
            "marker": {
             "pattern": {
              "fillmode": "overlay",
              "size": 10,
              "solidity": 0.2
             }
            },
            "type": "histogram"
           }
          ],
          "histogram2d": [
           {
            "colorbar": {
             "outlinewidth": 0,
             "ticks": ""
            },
            "colorscale": [
             [
              0,
              "#0d0887"
             ],
             [
              0.1111111111111111,
              "#46039f"
             ],
             [
              0.2222222222222222,
              "#7201a8"
             ],
             [
              0.3333333333333333,
              "#9c179e"
             ],
             [
              0.4444444444444444,
              "#bd3786"
             ],
             [
              0.5555555555555556,
              "#d8576b"
             ],
             [
              0.6666666666666666,
              "#ed7953"
             ],
             [
              0.7777777777777778,
              "#fb9f3a"
             ],
             [
              0.8888888888888888,
              "#fdca26"
             ],
             [
              1,
              "#f0f921"
             ]
            ],
            "type": "histogram2d"
           }
          ],
          "histogram2dcontour": [
           {
            "colorbar": {
             "outlinewidth": 0,
             "ticks": ""
            },
            "colorscale": [
             [
              0,
              "#0d0887"
             ],
             [
              0.1111111111111111,
              "#46039f"
             ],
             [
              0.2222222222222222,
              "#7201a8"
             ],
             [
              0.3333333333333333,
              "#9c179e"
             ],
             [
              0.4444444444444444,
              "#bd3786"
             ],
             [
              0.5555555555555556,
              "#d8576b"
             ],
             [
              0.6666666666666666,
              "#ed7953"
             ],
             [
              0.7777777777777778,
              "#fb9f3a"
             ],
             [
              0.8888888888888888,
              "#fdca26"
             ],
             [
              1,
              "#f0f921"
             ]
            ],
            "type": "histogram2dcontour"
           }
          ],
          "mesh3d": [
           {
            "colorbar": {
             "outlinewidth": 0,
             "ticks": ""
            },
            "type": "mesh3d"
           }
          ],
          "parcoords": [
           {
            "line": {
             "colorbar": {
              "outlinewidth": 0,
              "ticks": ""
             }
            },
            "type": "parcoords"
           }
          ],
          "pie": [
           {
            "automargin": true,
            "type": "pie"
           }
          ],
          "scatter": [
           {
            "marker": {
             "colorbar": {
              "outlinewidth": 0,
              "ticks": ""
             }
            },
            "type": "scatter"
           }
          ],
          "scatter3d": [
           {
            "line": {
             "colorbar": {
              "outlinewidth": 0,
              "ticks": ""
             }
            },
            "marker": {
             "colorbar": {
              "outlinewidth": 0,
              "ticks": ""
             }
            },
            "type": "scatter3d"
           }
          ],
          "scattercarpet": [
           {
            "marker": {
             "colorbar": {
              "outlinewidth": 0,
              "ticks": ""
             }
            },
            "type": "scattercarpet"
           }
          ],
          "scattergeo": [
           {
            "marker": {
             "colorbar": {
              "outlinewidth": 0,
              "ticks": ""
             }
            },
            "type": "scattergeo"
           }
          ],
          "scattergl": [
           {
            "marker": {
             "colorbar": {
              "outlinewidth": 0,
              "ticks": ""
             }
            },
            "type": "scattergl"
           }
          ],
          "scattermapbox": [
           {
            "marker": {
             "colorbar": {
              "outlinewidth": 0,
              "ticks": ""
             }
            },
            "type": "scattermapbox"
           }
          ],
          "scatterpolar": [
           {
            "marker": {
             "colorbar": {
              "outlinewidth": 0,
              "ticks": ""
             }
            },
            "type": "scatterpolar"
           }
          ],
          "scatterpolargl": [
           {
            "marker": {
             "colorbar": {
              "outlinewidth": 0,
              "ticks": ""
             }
            },
            "type": "scatterpolargl"
           }
          ],
          "scatterternary": [
           {
            "marker": {
             "colorbar": {
              "outlinewidth": 0,
              "ticks": ""
             }
            },
            "type": "scatterternary"
           }
          ],
          "surface": [
           {
            "colorbar": {
             "outlinewidth": 0,
             "ticks": ""
            },
            "colorscale": [
             [
              0,
              "#0d0887"
             ],
             [
              0.1111111111111111,
              "#46039f"
             ],
             [
              0.2222222222222222,
              "#7201a8"
             ],
             [
              0.3333333333333333,
              "#9c179e"
             ],
             [
              0.4444444444444444,
              "#bd3786"
             ],
             [
              0.5555555555555556,
              "#d8576b"
             ],
             [
              0.6666666666666666,
              "#ed7953"
             ],
             [
              0.7777777777777778,
              "#fb9f3a"
             ],
             [
              0.8888888888888888,
              "#fdca26"
             ],
             [
              1,
              "#f0f921"
             ]
            ],
            "type": "surface"
           }
          ],
          "table": [
           {
            "cells": {
             "fill": {
              "color": "#EBF0F8"
             },
             "line": {
              "color": "white"
             }
            },
            "header": {
             "fill": {
              "color": "#C8D4E3"
             },
             "line": {
              "color": "white"
             }
            },
            "type": "table"
           }
          ]
         },
         "layout": {
          "annotationdefaults": {
           "arrowcolor": "#2a3f5f",
           "arrowhead": 0,
           "arrowwidth": 1
          },
          "autotypenumbers": "strict",
          "coloraxis": {
           "colorbar": {
            "outlinewidth": 0,
            "ticks": ""
           }
          },
          "colorscale": {
           "diverging": [
            [
             0,
             "#8e0152"
            ],
            [
             0.1,
             "#c51b7d"
            ],
            [
             0.2,
             "#de77ae"
            ],
            [
             0.3,
             "#f1b6da"
            ],
            [
             0.4,
             "#fde0ef"
            ],
            [
             0.5,
             "#f7f7f7"
            ],
            [
             0.6,
             "#e6f5d0"
            ],
            [
             0.7,
             "#b8e186"
            ],
            [
             0.8,
             "#7fbc41"
            ],
            [
             0.9,
             "#4d9221"
            ],
            [
             1,
             "#276419"
            ]
           ],
           "sequential": [
            [
             0,
             "#0d0887"
            ],
            [
             0.1111111111111111,
             "#46039f"
            ],
            [
             0.2222222222222222,
             "#7201a8"
            ],
            [
             0.3333333333333333,
             "#9c179e"
            ],
            [
             0.4444444444444444,
             "#bd3786"
            ],
            [
             0.5555555555555556,
             "#d8576b"
            ],
            [
             0.6666666666666666,
             "#ed7953"
            ],
            [
             0.7777777777777778,
             "#fb9f3a"
            ],
            [
             0.8888888888888888,
             "#fdca26"
            ],
            [
             1,
             "#f0f921"
            ]
           ],
           "sequentialminus": [
            [
             0,
             "#0d0887"
            ],
            [
             0.1111111111111111,
             "#46039f"
            ],
            [
             0.2222222222222222,
             "#7201a8"
            ],
            [
             0.3333333333333333,
             "#9c179e"
            ],
            [
             0.4444444444444444,
             "#bd3786"
            ],
            [
             0.5555555555555556,
             "#d8576b"
            ],
            [
             0.6666666666666666,
             "#ed7953"
            ],
            [
             0.7777777777777778,
             "#fb9f3a"
            ],
            [
             0.8888888888888888,
             "#fdca26"
            ],
            [
             1,
             "#f0f921"
            ]
           ]
          },
          "colorway": [
           "#636efa",
           "#EF553B",
           "#00cc96",
           "#ab63fa",
           "#FFA15A",
           "#19d3f3",
           "#FF6692",
           "#B6E880",
           "#FF97FF",
           "#FECB52"
          ],
          "font": {
           "color": "#2a3f5f"
          },
          "geo": {
           "bgcolor": "white",
           "lakecolor": "white",
           "landcolor": "#E5ECF6",
           "showlakes": true,
           "showland": true,
           "subunitcolor": "white"
          },
          "hoverlabel": {
           "align": "left"
          },
          "hovermode": "closest",
          "mapbox": {
           "style": "light"
          },
          "paper_bgcolor": "white",
          "plot_bgcolor": "#E5ECF6",
          "polar": {
           "angularaxis": {
            "gridcolor": "white",
            "linecolor": "white",
            "ticks": ""
           },
           "bgcolor": "#E5ECF6",
           "radialaxis": {
            "gridcolor": "white",
            "linecolor": "white",
            "ticks": ""
           }
          },
          "scene": {
           "xaxis": {
            "backgroundcolor": "#E5ECF6",
            "gridcolor": "white",
            "gridwidth": 2,
            "linecolor": "white",
            "showbackground": true,
            "ticks": "",
            "zerolinecolor": "white"
           },
           "yaxis": {
            "backgroundcolor": "#E5ECF6",
            "gridcolor": "white",
            "gridwidth": 2,
            "linecolor": "white",
            "showbackground": true,
            "ticks": "",
            "zerolinecolor": "white"
           },
           "zaxis": {
            "backgroundcolor": "#E5ECF6",
            "gridcolor": "white",
            "gridwidth": 2,
            "linecolor": "white",
            "showbackground": true,
            "ticks": "",
            "zerolinecolor": "white"
           }
          },
          "shapedefaults": {
           "line": {
            "color": "#2a3f5f"
           }
          },
          "ternary": {
           "aaxis": {
            "gridcolor": "white",
            "linecolor": "white",
            "ticks": ""
           },
           "baxis": {
            "gridcolor": "white",
            "linecolor": "white",
            "ticks": ""
           },
           "bgcolor": "#E5ECF6",
           "caxis": {
            "gridcolor": "white",
            "linecolor": "white",
            "ticks": ""
           }
          },
          "title": {
           "x": 0.05
          },
          "xaxis": {
           "automargin": true,
           "gridcolor": "white",
           "linecolor": "white",
           "ticks": "",
           "title": {
            "standoff": 15
           },
           "zerolinecolor": "white",
           "zerolinewidth": 2
          },
          "yaxis": {
           "automargin": true,
           "gridcolor": "white",
           "linecolor": "white",
           "ticks": "",
           "title": {
            "standoff": 15
           },
           "zerolinecolor": "white",
           "zerolinewidth": 2
          }
         }
        },
        "xaxis": {
         "anchor": "y",
         "categoryarray": [
          "lr",
          "Ridge",
          "Lasso",
          "Tree",
          "Random Forest",
          "Bagging",
          "GBM"
         ],
         "categoryorder": "array",
         "domain": [
          0,
          1
         ],
         "title": {
          "text": "variable"
         }
        },
        "yaxis": {
         "anchor": "x",
         "domain": [
          0,
          1
         ],
         "title": {
          "text": "value"
         }
        }
       }
      }
     },
     "metadata": {},
     "output_type": "display_data"
    }
   ],
   "source": [
    "fig = px.box(regressmod, x=\"variable\", y=\"value\",color=\"variable\",points='all')\n",
    "fig.show()\n"
   ]
  },
  {
   "cell_type": "code",
   "execution_count": 16,
   "metadata": {},
   "outputs": [],
   "source": [
    "# get a stacking ensemble of models\n",
    "def get_stacking():\n",
    "\t# define the base models\n",
    "  level0 = list()\n",
    "  level0.append(('Tree', DecisionTreeRegressor()))\n",
    "  level0.append(('RF', RandomForestRegressor()))\n",
    "  level0.append(('XGB', XGBRegressor()))\n",
    "  level0.append(('Bagging', BaggingRegressor()))\n",
    "\t# define meta learner model\n",
    "  level1 = LGBMRegressor()\n",
    "\t# define the stacking ensemble\n",
    "  model = StackingRegressor(estimators=level0, final_estimator=level1, cv=5)\n",
    "  return model"
   ]
  },
  {
   "cell_type": "code",
   "execution_count": 17,
   "metadata": {},
   "outputs": [],
   "source": [
    "def base_models():\n",
    "  models = dict()\n",
    "  models[\"Tree\"] = DecisionTreeRegressor()\n",
    "  models[\"Random Forest\"] = RandomForestRegressor()\n",
    "  models[\"Bagging\"] = BaggingRegressor()\n",
    "  models[\"XGB\"] = XGBRegressor()\n",
    "  models[\"Stacked Model\"] = get_stacking()\n",
    "  return models\n",
    "\n",
    "# Function to evaluate the list of models\n",
    "def eval_models(model):\n",
    "  cv = RepeatedKFold(n_splits=10, n_repeats=3, random_state=1)\n",
    "  scores = -cross_val_score(model, boston.data, boston.target, scoring='neg_mean_absolute_error', cv=cv, n_jobs=-1, \n",
    "                            error_score='raise')\n",
    "  return scores"
   ]
  },
  {
   "cell_type": "code",
   "execution_count": 18,
   "metadata": {},
   "outputs": [
    {
     "name": "stdout",
     "output_type": "stream",
     "text": [
      ">Tree 2.860 (0.503)\n",
      ">Random Forest 2.191 (0.363)\n",
      ">Bagging 2.336 (0.378)\n",
      ">XGB 2.109 (0.320)\n",
      ">Stacked Model 2.704 (0.361)\n"
     ]
    },
    {
     "data": {
      "application/vnd.plotly.v1+json": {
       "config": {
        "plotlyServerURL": "https://plot.ly"
       },
       "data": [
        {
         "alignmentgroup": "True",
         "boxpoints": "all",
         "hovertemplate": "variable=%{x}<br>value=%{y}<extra></extra>",
         "legendgroup": "Tree",
         "marker": {
          "color": "#636efa"
         },
         "name": "Tree",
         "notched": false,
         "offsetgroup": "Tree",
         "orientation": "v",
         "showlegend": true,
         "type": "box",
         "x": [
          "Tree",
          "Tree",
          "Tree",
          "Tree",
          "Tree",
          "Tree",
          "Tree",
          "Tree",
          "Tree",
          "Tree",
          "Tree",
          "Tree",
          "Tree",
          "Tree",
          "Tree",
          "Tree",
          "Tree",
          "Tree",
          "Tree",
          "Tree",
          "Tree",
          "Tree",
          "Tree",
          "Tree",
          "Tree",
          "Tree",
          "Tree",
          "Tree",
          "Tree",
          "Tree"
         ],
         "x0": " ",
         "xaxis": "x",
         "y": [
          2.566666666666667,
          2.698039215686274,
          3.3372549019607844,
          4.641176470588235,
          2.3117647058823523,
          3.007843137254902,
          2.838,
          3.3080000000000007,
          2.622,
          2.116,
          2.049019607843137,
          3.019607843137255,
          2.8921568627450984,
          2.9686274509803923,
          2.533333333333333,
          2.8156862745098037,
          2.634,
          3.2319999999999998,
          2.6720000000000006,
          2.9559999999999995,
          2.692156862745098,
          2.033333333333333,
          3.1411764705882357,
          3.6176470588235294,
          3.3352941176470594,
          3.145098039215687,
          2.698000000000001,
          2.836,
          2.574,
          2.52
         ],
         "y0": " ",
         "yaxis": "y"
        },
        {
         "alignmentgroup": "True",
         "boxpoints": "all",
         "hovertemplate": "variable=%{x}<br>value=%{y}<extra></extra>",
         "legendgroup": "Random Forest",
         "marker": {
          "color": "#EF553B"
         },
         "name": "Random Forest",
         "notched": false,
         "offsetgroup": "Random Forest",
         "orientation": "v",
         "showlegend": true,
         "type": "box",
         "x": [
          "Random Forest",
          "Random Forest",
          "Random Forest",
          "Random Forest",
          "Random Forest",
          "Random Forest",
          "Random Forest",
          "Random Forest",
          "Random Forest",
          "Random Forest",
          "Random Forest",
          "Random Forest",
          "Random Forest",
          "Random Forest",
          "Random Forest",
          "Random Forest",
          "Random Forest",
          "Random Forest",
          "Random Forest",
          "Random Forest",
          "Random Forest",
          "Random Forest",
          "Random Forest",
          "Random Forest",
          "Random Forest",
          "Random Forest",
          "Random Forest",
          "Random Forest",
          "Random Forest",
          "Random Forest"
         ],
         "x0": " ",
         "xaxis": "x",
         "y": [
          2.0544705882352927,
          2.3895098039215665,
          1.6472156862745095,
          3.409078431372548,
          1.8749803921568626,
          2.2073725490196083,
          2.1321200000000005,
          2.8148400000000016,
          2.1299800000000007,
          1.579559999999998,
          1.9624901960784296,
          2.5443333333333316,
          2.070705882352939,
          2.0750784313725497,
          1.8298235294117653,
          2.0784117647058844,
          2.1026600000000015,
          2.6703600000000005,
          2.3830000000000013,
          2.0941599999999987,
          2.3899411764705896,
          1.641313725490196,
          2.3150980392156857,
          2.397098039215684,
          2.4330980392156847,
          2.2133333333333343,
          2.1245400000000005,
          2.163139999999999,
          2.1822800000000013,
          1.8107200000000008
         ],
         "y0": " ",
         "yaxis": "y"
        },
        {
         "alignmentgroup": "True",
         "boxpoints": "all",
         "hovertemplate": "variable=%{x}<br>value=%{y}<extra></extra>",
         "legendgroup": "Bagging",
         "marker": {
          "color": "#00cc96"
         },
         "name": "Bagging",
         "notched": false,
         "offsetgroup": "Bagging",
         "orientation": "v",
         "showlegend": true,
         "type": "box",
         "x": [
          "Bagging",
          "Bagging",
          "Bagging",
          "Bagging",
          "Bagging",
          "Bagging",
          "Bagging",
          "Bagging",
          "Bagging",
          "Bagging",
          "Bagging",
          "Bagging",
          "Bagging",
          "Bagging",
          "Bagging",
          "Bagging",
          "Bagging",
          "Bagging",
          "Bagging",
          "Bagging",
          "Bagging",
          "Bagging",
          "Bagging",
          "Bagging",
          "Bagging",
          "Bagging",
          "Bagging",
          "Bagging",
          "Bagging",
          "Bagging"
         ],
         "x0": " ",
         "xaxis": "x",
         "y": [
          2.27921568627451,
          2.538235294117647,
          1.9382352941176475,
          3.7586274509803905,
          2.066862745098039,
          2.3639215686274504,
          2.1156000000000006,
          2.8310000000000004,
          2.4566000000000003,
          1.7068,
          2.2076470588235293,
          2.723137254901961,
          2.2301960784313724,
          2.0021568627450983,
          1.9827450980392152,
          2.320392156862745,
          2.136599999999999,
          2.6988,
          2.5846,
          1.9852,
          2.765490196078431,
          1.9541176470588235,
          2.3266666666666667,
          2.53,
          2.5131372549019604,
          2.284901960784314,
          2.0447999999999995,
          2.2191999999999994,
          2.3299999999999996,
          2.199399999999999
         ],
         "y0": " ",
         "yaxis": "y"
        },
        {
         "alignmentgroup": "True",
         "boxpoints": "all",
         "hovertemplate": "variable=%{x}<br>value=%{y}<extra></extra>",
         "legendgroup": "XGB",
         "marker": {
          "color": "#ab63fa"
         },
         "name": "XGB",
         "notched": false,
         "offsetgroup": "XGB",
         "orientation": "v",
         "showlegend": true,
         "type": "box",
         "x": [
          "XGB",
          "XGB",
          "XGB",
          "XGB",
          "XGB",
          "XGB",
          "XGB",
          "XGB",
          "XGB",
          "XGB",
          "XGB",
          "XGB",
          "XGB",
          "XGB",
          "XGB",
          "XGB",
          "XGB",
          "XGB",
          "XGB",
          "XGB",
          "XGB",
          "XGB",
          "XGB",
          "XGB",
          "XGB",
          "XGB",
          "XGB",
          "XGB",
          "XGB",
          "XGB"
         ],
         "x0": " ",
         "xaxis": "x",
         "y": [
          1.889756814171286,
          2.276884417440377,
          1.9441678327672625,
          2.7883566501093844,
          1.7033059999054554,
          2.0148397539176193,
          2.2611517581939697,
          2.6112108840942385,
          2.3731274452209474,
          1.7060913696289064,
          2.1544245065427288,
          2.62473061505486,
          2.0107660480574068,
          1.8867361218321554,
          1.65510716344796,
          1.8691965907227757,
          1.7722996158599855,
          2.591054962158203,
          2.250958988189697,
          1.769799560546875,
          2.505131719626633,
          1.7842209348491596,
          2.180949938531015,
          2.308657423655192,
          2.5392589400796326,
          2.1685598111620137,
          2.131449836730957,
          1.9459605350494389,
          1.8227286643981933,
          1.7145669898986813
         ],
         "y0": " ",
         "yaxis": "y"
        },
        {
         "alignmentgroup": "True",
         "boxpoints": "all",
         "hovertemplate": "variable=%{x}<br>value=%{y}<extra></extra>",
         "legendgroup": "Stacked Reg",
         "marker": {
          "color": "#FFA15A"
         },
         "name": "Stacked Reg",
         "notched": false,
         "offsetgroup": "Stacked Reg",
         "orientation": "v",
         "showlegend": true,
         "type": "box",
         "x": [
          "Stacked Reg",
          "Stacked Reg",
          "Stacked Reg",
          "Stacked Reg",
          "Stacked Reg",
          "Stacked Reg",
          "Stacked Reg",
          "Stacked Reg",
          "Stacked Reg",
          "Stacked Reg",
          "Stacked Reg",
          "Stacked Reg",
          "Stacked Reg",
          "Stacked Reg",
          "Stacked Reg",
          "Stacked Reg",
          "Stacked Reg",
          "Stacked Reg",
          "Stacked Reg",
          "Stacked Reg",
          "Stacked Reg",
          "Stacked Reg",
          "Stacked Reg",
          "Stacked Reg",
          "Stacked Reg",
          "Stacked Reg",
          "Stacked Reg",
          "Stacked Reg",
          "Stacked Reg",
          "Stacked Reg"
         ],
         "x0": " ",
         "xaxis": "x",
         "y": [
          2.6345118187641807,
          2.3365212694075637,
          2.665901625764415,
          3.26442295577023,
          2.770555076911711,
          2.39725783157719,
          2.6510747964386234,
          2.8906945679998275,
          2.930522469985152,
          2.4595044696766437,
          2.325614351303486,
          3.159434072300662,
          2.1509381421311433,
          2.5191271653599685,
          1.9972113089983623,
          2.6867763594922374,
          3.234971775711009,
          2.920697483241687,
          3.081279275630539,
          2.4393452703787735,
          2.832694160969833,
          2.442103234317956,
          3.282661228602649,
          2.3754956052475933,
          3.603351574560561,
          2.772851345705559,
          2.569967368318191,
          2.3729154507470662,
          2.6810640170106654,
          2.6774257447580925
         ],
         "y0": " ",
         "yaxis": "y"
        }
       ],
       "layout": {
        "boxmode": "overlay",
        "legend": {
         "title": {
          "text": "variable"
         },
         "tracegroupgap": 0
        },
        "margin": {
         "t": 60
        },
        "template": {
         "data": {
          "bar": [
           {
            "error_x": {
             "color": "#2a3f5f"
            },
            "error_y": {
             "color": "#2a3f5f"
            },
            "marker": {
             "line": {
              "color": "#E5ECF6",
              "width": 0.5
             },
             "pattern": {
              "fillmode": "overlay",
              "size": 10,
              "solidity": 0.2
             }
            },
            "type": "bar"
           }
          ],
          "barpolar": [
           {
            "marker": {
             "line": {
              "color": "#E5ECF6",
              "width": 0.5
             },
             "pattern": {
              "fillmode": "overlay",
              "size": 10,
              "solidity": 0.2
             }
            },
            "type": "barpolar"
           }
          ],
          "carpet": [
           {
            "aaxis": {
             "endlinecolor": "#2a3f5f",
             "gridcolor": "white",
             "linecolor": "white",
             "minorgridcolor": "white",
             "startlinecolor": "#2a3f5f"
            },
            "baxis": {
             "endlinecolor": "#2a3f5f",
             "gridcolor": "white",
             "linecolor": "white",
             "minorgridcolor": "white",
             "startlinecolor": "#2a3f5f"
            },
            "type": "carpet"
           }
          ],
          "choropleth": [
           {
            "colorbar": {
             "outlinewidth": 0,
             "ticks": ""
            },
            "type": "choropleth"
           }
          ],
          "contour": [
           {
            "colorbar": {
             "outlinewidth": 0,
             "ticks": ""
            },
            "colorscale": [
             [
              0,
              "#0d0887"
             ],
             [
              0.1111111111111111,
              "#46039f"
             ],
             [
              0.2222222222222222,
              "#7201a8"
             ],
             [
              0.3333333333333333,
              "#9c179e"
             ],
             [
              0.4444444444444444,
              "#bd3786"
             ],
             [
              0.5555555555555556,
              "#d8576b"
             ],
             [
              0.6666666666666666,
              "#ed7953"
             ],
             [
              0.7777777777777778,
              "#fb9f3a"
             ],
             [
              0.8888888888888888,
              "#fdca26"
             ],
             [
              1,
              "#f0f921"
             ]
            ],
            "type": "contour"
           }
          ],
          "contourcarpet": [
           {
            "colorbar": {
             "outlinewidth": 0,
             "ticks": ""
            },
            "type": "contourcarpet"
           }
          ],
          "heatmap": [
           {
            "colorbar": {
             "outlinewidth": 0,
             "ticks": ""
            },
            "colorscale": [
             [
              0,
              "#0d0887"
             ],
             [
              0.1111111111111111,
              "#46039f"
             ],
             [
              0.2222222222222222,
              "#7201a8"
             ],
             [
              0.3333333333333333,
              "#9c179e"
             ],
             [
              0.4444444444444444,
              "#bd3786"
             ],
             [
              0.5555555555555556,
              "#d8576b"
             ],
             [
              0.6666666666666666,
              "#ed7953"
             ],
             [
              0.7777777777777778,
              "#fb9f3a"
             ],
             [
              0.8888888888888888,
              "#fdca26"
             ],
             [
              1,
              "#f0f921"
             ]
            ],
            "type": "heatmap"
           }
          ],
          "heatmapgl": [
           {
            "colorbar": {
             "outlinewidth": 0,
             "ticks": ""
            },
            "colorscale": [
             [
              0,
              "#0d0887"
             ],
             [
              0.1111111111111111,
              "#46039f"
             ],
             [
              0.2222222222222222,
              "#7201a8"
             ],
             [
              0.3333333333333333,
              "#9c179e"
             ],
             [
              0.4444444444444444,
              "#bd3786"
             ],
             [
              0.5555555555555556,
              "#d8576b"
             ],
             [
              0.6666666666666666,
              "#ed7953"
             ],
             [
              0.7777777777777778,
              "#fb9f3a"
             ],
             [
              0.8888888888888888,
              "#fdca26"
             ],
             [
              1,
              "#f0f921"
             ]
            ],
            "type": "heatmapgl"
           }
          ],
          "histogram": [
           {
            "marker": {
             "pattern": {
              "fillmode": "overlay",
              "size": 10,
              "solidity": 0.2
             }
            },
            "type": "histogram"
           }
          ],
          "histogram2d": [
           {
            "colorbar": {
             "outlinewidth": 0,
             "ticks": ""
            },
            "colorscale": [
             [
              0,
              "#0d0887"
             ],
             [
              0.1111111111111111,
              "#46039f"
             ],
             [
              0.2222222222222222,
              "#7201a8"
             ],
             [
              0.3333333333333333,
              "#9c179e"
             ],
             [
              0.4444444444444444,
              "#bd3786"
             ],
             [
              0.5555555555555556,
              "#d8576b"
             ],
             [
              0.6666666666666666,
              "#ed7953"
             ],
             [
              0.7777777777777778,
              "#fb9f3a"
             ],
             [
              0.8888888888888888,
              "#fdca26"
             ],
             [
              1,
              "#f0f921"
             ]
            ],
            "type": "histogram2d"
           }
          ],
          "histogram2dcontour": [
           {
            "colorbar": {
             "outlinewidth": 0,
             "ticks": ""
            },
            "colorscale": [
             [
              0,
              "#0d0887"
             ],
             [
              0.1111111111111111,
              "#46039f"
             ],
             [
              0.2222222222222222,
              "#7201a8"
             ],
             [
              0.3333333333333333,
              "#9c179e"
             ],
             [
              0.4444444444444444,
              "#bd3786"
             ],
             [
              0.5555555555555556,
              "#d8576b"
             ],
             [
              0.6666666666666666,
              "#ed7953"
             ],
             [
              0.7777777777777778,
              "#fb9f3a"
             ],
             [
              0.8888888888888888,
              "#fdca26"
             ],
             [
              1,
              "#f0f921"
             ]
            ],
            "type": "histogram2dcontour"
           }
          ],
          "mesh3d": [
           {
            "colorbar": {
             "outlinewidth": 0,
             "ticks": ""
            },
            "type": "mesh3d"
           }
          ],
          "parcoords": [
           {
            "line": {
             "colorbar": {
              "outlinewidth": 0,
              "ticks": ""
             }
            },
            "type": "parcoords"
           }
          ],
          "pie": [
           {
            "automargin": true,
            "type": "pie"
           }
          ],
          "scatter": [
           {
            "marker": {
             "colorbar": {
              "outlinewidth": 0,
              "ticks": ""
             }
            },
            "type": "scatter"
           }
          ],
          "scatter3d": [
           {
            "line": {
             "colorbar": {
              "outlinewidth": 0,
              "ticks": ""
             }
            },
            "marker": {
             "colorbar": {
              "outlinewidth": 0,
              "ticks": ""
             }
            },
            "type": "scatter3d"
           }
          ],
          "scattercarpet": [
           {
            "marker": {
             "colorbar": {
              "outlinewidth": 0,
              "ticks": ""
             }
            },
            "type": "scattercarpet"
           }
          ],
          "scattergeo": [
           {
            "marker": {
             "colorbar": {
              "outlinewidth": 0,
              "ticks": ""
             }
            },
            "type": "scattergeo"
           }
          ],
          "scattergl": [
           {
            "marker": {
             "colorbar": {
              "outlinewidth": 0,
              "ticks": ""
             }
            },
            "type": "scattergl"
           }
          ],
          "scattermapbox": [
           {
            "marker": {
             "colorbar": {
              "outlinewidth": 0,
              "ticks": ""
             }
            },
            "type": "scattermapbox"
           }
          ],
          "scatterpolar": [
           {
            "marker": {
             "colorbar": {
              "outlinewidth": 0,
              "ticks": ""
             }
            },
            "type": "scatterpolar"
           }
          ],
          "scatterpolargl": [
           {
            "marker": {
             "colorbar": {
              "outlinewidth": 0,
              "ticks": ""
             }
            },
            "type": "scatterpolargl"
           }
          ],
          "scatterternary": [
           {
            "marker": {
             "colorbar": {
              "outlinewidth": 0,
              "ticks": ""
             }
            },
            "type": "scatterternary"
           }
          ],
          "surface": [
           {
            "colorbar": {
             "outlinewidth": 0,
             "ticks": ""
            },
            "colorscale": [
             [
              0,
              "#0d0887"
             ],
             [
              0.1111111111111111,
              "#46039f"
             ],
             [
              0.2222222222222222,
              "#7201a8"
             ],
             [
              0.3333333333333333,
              "#9c179e"
             ],
             [
              0.4444444444444444,
              "#bd3786"
             ],
             [
              0.5555555555555556,
              "#d8576b"
             ],
             [
              0.6666666666666666,
              "#ed7953"
             ],
             [
              0.7777777777777778,
              "#fb9f3a"
             ],
             [
              0.8888888888888888,
              "#fdca26"
             ],
             [
              1,
              "#f0f921"
             ]
            ],
            "type": "surface"
           }
          ],
          "table": [
           {
            "cells": {
             "fill": {
              "color": "#EBF0F8"
             },
             "line": {
              "color": "white"
             }
            },
            "header": {
             "fill": {
              "color": "#C8D4E3"
             },
             "line": {
              "color": "white"
             }
            },
            "type": "table"
           }
          ]
         },
         "layout": {
          "annotationdefaults": {
           "arrowcolor": "#2a3f5f",
           "arrowhead": 0,
           "arrowwidth": 1
          },
          "autotypenumbers": "strict",
          "coloraxis": {
           "colorbar": {
            "outlinewidth": 0,
            "ticks": ""
           }
          },
          "colorscale": {
           "diverging": [
            [
             0,
             "#8e0152"
            ],
            [
             0.1,
             "#c51b7d"
            ],
            [
             0.2,
             "#de77ae"
            ],
            [
             0.3,
             "#f1b6da"
            ],
            [
             0.4,
             "#fde0ef"
            ],
            [
             0.5,
             "#f7f7f7"
            ],
            [
             0.6,
             "#e6f5d0"
            ],
            [
             0.7,
             "#b8e186"
            ],
            [
             0.8,
             "#7fbc41"
            ],
            [
             0.9,
             "#4d9221"
            ],
            [
             1,
             "#276419"
            ]
           ],
           "sequential": [
            [
             0,
             "#0d0887"
            ],
            [
             0.1111111111111111,
             "#46039f"
            ],
            [
             0.2222222222222222,
             "#7201a8"
            ],
            [
             0.3333333333333333,
             "#9c179e"
            ],
            [
             0.4444444444444444,
             "#bd3786"
            ],
            [
             0.5555555555555556,
             "#d8576b"
            ],
            [
             0.6666666666666666,
             "#ed7953"
            ],
            [
             0.7777777777777778,
             "#fb9f3a"
            ],
            [
             0.8888888888888888,
             "#fdca26"
            ],
            [
             1,
             "#f0f921"
            ]
           ],
           "sequentialminus": [
            [
             0,
             "#0d0887"
            ],
            [
             0.1111111111111111,
             "#46039f"
            ],
            [
             0.2222222222222222,
             "#7201a8"
            ],
            [
             0.3333333333333333,
             "#9c179e"
            ],
            [
             0.4444444444444444,
             "#bd3786"
            ],
            [
             0.5555555555555556,
             "#d8576b"
            ],
            [
             0.6666666666666666,
             "#ed7953"
            ],
            [
             0.7777777777777778,
             "#fb9f3a"
            ],
            [
             0.8888888888888888,
             "#fdca26"
            ],
            [
             1,
             "#f0f921"
            ]
           ]
          },
          "colorway": [
           "#636efa",
           "#EF553B",
           "#00cc96",
           "#ab63fa",
           "#FFA15A",
           "#19d3f3",
           "#FF6692",
           "#B6E880",
           "#FF97FF",
           "#FECB52"
          ],
          "font": {
           "color": "#2a3f5f"
          },
          "geo": {
           "bgcolor": "white",
           "lakecolor": "white",
           "landcolor": "#E5ECF6",
           "showlakes": true,
           "showland": true,
           "subunitcolor": "white"
          },
          "hoverlabel": {
           "align": "left"
          },
          "hovermode": "closest",
          "mapbox": {
           "style": "light"
          },
          "paper_bgcolor": "white",
          "plot_bgcolor": "#E5ECF6",
          "polar": {
           "angularaxis": {
            "gridcolor": "white",
            "linecolor": "white",
            "ticks": ""
           },
           "bgcolor": "#E5ECF6",
           "radialaxis": {
            "gridcolor": "white",
            "linecolor": "white",
            "ticks": ""
           }
          },
          "scene": {
           "xaxis": {
            "backgroundcolor": "#E5ECF6",
            "gridcolor": "white",
            "gridwidth": 2,
            "linecolor": "white",
            "showbackground": true,
            "ticks": "",
            "zerolinecolor": "white"
           },
           "yaxis": {
            "backgroundcolor": "#E5ECF6",
            "gridcolor": "white",
            "gridwidth": 2,
            "linecolor": "white",
            "showbackground": true,
            "ticks": "",
            "zerolinecolor": "white"
           },
           "zaxis": {
            "backgroundcolor": "#E5ECF6",
            "gridcolor": "white",
            "gridwidth": 2,
            "linecolor": "white",
            "showbackground": true,
            "ticks": "",
            "zerolinecolor": "white"
           }
          },
          "shapedefaults": {
           "line": {
            "color": "#2a3f5f"
           }
          },
          "ternary": {
           "aaxis": {
            "gridcolor": "white",
            "linecolor": "white",
            "ticks": ""
           },
           "baxis": {
            "gridcolor": "white",
            "linecolor": "white",
            "ticks": ""
           },
           "bgcolor": "#E5ECF6",
           "caxis": {
            "gridcolor": "white",
            "linecolor": "white",
            "ticks": ""
           }
          },
          "title": {
           "x": 0.05
          },
          "xaxis": {
           "automargin": true,
           "gridcolor": "white",
           "linecolor": "white",
           "ticks": "",
           "title": {
            "standoff": 15
           },
           "zerolinecolor": "white",
           "zerolinewidth": 2
          },
          "yaxis": {
           "automargin": true,
           "gridcolor": "white",
           "linecolor": "white",
           "ticks": "",
           "title": {
            "standoff": 15
           },
           "zerolinecolor": "white",
           "zerolinewidth": 2
          }
         }
        },
        "xaxis": {
         "anchor": "y",
         "categoryarray": [
          "Tree",
          "Random Forest",
          "Bagging",
          "XGB",
          "Stacked Reg"
         ],
         "categoryorder": "array",
         "domain": [
          0,
          1
         ],
         "title": {
          "text": "variable"
         }
        },
        "yaxis": {
         "anchor": "x",
         "domain": [
          0,
          1
         ],
         "title": {
          "text": "value"
         }
        }
       }
      }
     },
     "metadata": {},
     "output_type": "display_data"
    }
   ],
   "source": [
    "# get the models to evaluate\n",
    "models = base_models()\n",
    "# evaluate the models and store results\n",
    "results, names = list(), list() \n",
    "\n",
    "for name, model in models.items():\n",
    "  scores = eval_models(model)\n",
    "  results.append(scores)\n",
    "  names.append(name)\n",
    "  print('>%s %.3f (%.3f)' % (name, scores.mean(), scores.std()))\n",
    "\n",
    "regressmod = pd.DataFrame(np.transpose(results), columns = [\"Tree\",\"Random Forest\",\"Bagging\",\"XGB\",\"Stacked Reg\"])\n",
    "regressmod = pd.melt(regressmod.reset_index(), id_vars='index',value_vars=[\"Tree\",\"Random Forest\",\"Bagging\",\"XGB\",\"Stacked Reg\"])\n",
    "fig = px.box(regressmod, x=\"variable\", y=\"value\",color=\"variable\",points='all')\n",
    "fig.show()"
   ]
  },
  {
   "cell_type": "code",
   "execution_count": 19,
   "metadata": {},
   "outputs": [
    {
     "data": {
      "text/plain": [
       "['stacked-models.joblib']"
      ]
     },
     "execution_count": 19,
     "metadata": {},
     "output_type": "execute_result"
    }
   ],
   "source": [
    "from joblib import dump, load\n",
    "dump(models, \"stacked-models.joblib\")"
   ]
  },
  {
   "cell_type": "code",
   "execution_count": 20,
   "metadata": {},
   "outputs": [
    {
     "data": {
      "text/plain": [
       "array([ 17.8667,   0.    ,  18.1   ,   0.    ,   0.671 ,   6.223 ,\n",
       "       100.    ,   1.3861,  24.    , 666.    ,  20.2   , 393.74  ,\n",
       "        21.78  ])"
      ]
     },
     "execution_count": 20,
     "metadata": {},
     "output_type": "execute_result"
    }
   ],
   "source": [
    "X_test[9]"
   ]
  },
  {
   "cell_type": "code",
   "execution_count": 21,
   "metadata": {},
   "outputs": [
    {
     "data": {
      "text/plain": [
       "StackingRegressor(cv=10,\n",
       "                  estimators=[('Tree', DecisionTreeRegressor()),\n",
       "                              ('RF', RandomForestRegressor()),\n",
       "                              ('GBM', GradientBoostingRegressor()),\n",
       "                              ('Bagging', BaggingRegressor()),\n",
       "                              ('XGB',\n",
       "                               XGBRegressor(base_score=None, booster=None,\n",
       "                                            colsample_bylevel=None,\n",
       "                                            colsample_bynode=None,\n",
       "                                            colsample_bytree=None,\n",
       "                                            enable_categorical=False,\n",
       "                                            gamma=None, gpu_id=None,\n",
       "                                            importance_type=Non...\n",
       "                                            learning_rate=None,\n",
       "                                            max_delta_step=None, max_depth=None,\n",
       "                                            min_child_weight=None, missing=nan,\n",
       "                                            monotone_constraints=None,\n",
       "                                            n_estimators=100, n_jobs=None,\n",
       "                                            num_parallel_tree=None,\n",
       "                                            predictor=None, random_state=None,\n",
       "                                            reg_alpha=None, reg_lambda=None,\n",
       "                                            scale_pos_weight=None,\n",
       "                                            subsample=None, tree_method=None,\n",
       "                                            validate_parameters=None,\n",
       "                                            verbosity=None))],\n",
       "                  final_estimator=LGBMRegressor())"
      ]
     },
     "execution_count": 21,
     "metadata": {},
     "output_type": "execute_result"
    }
   ],
   "source": [
    "import pandas as pd\n",
    "import numpy as np\n",
    "import matplotlib.pyplot as plt\n",
    "import seaborn as sns\n",
    "from sklearn.datasets import load_boston\n",
    "import warnings\n",
    "from sklearn.model_selection import cross_val_score\n",
    "from sklearn.linear_model import Ridge, Lasso, LinearRegression\n",
    "from sklearn.tree import DecisionTreeRegressor\n",
    "from sklearn.ensemble import GradientBoostingRegressor, BaggingRegressor, RandomForestRegressor, StackingRegressor\n",
    "from xgboost import XGBRegressor\n",
    "from lightgbm import LGBMRegressor\n",
    "\n",
    "level0 = list()\n",
    "level0.append(('Tree', DecisionTreeRegressor()))\n",
    "level0.append(('RF', RandomForestRegressor()))\n",
    "level0.append(('GBM', GradientBoostingRegressor()))\n",
    "level0.append(('Bagging', BaggingRegressor()))\n",
    "level0.append((\"XGB\", XGBRegressor()))\n",
    "\n",
    "level1 = LGBMRegressor()\n",
    "model = StackingRegressor(estimators=level0, final_estimator=level1, cv=10)\n",
    "model.fit(X_train, y_train)\n"
   ]
  },
  {
   "cell_type": "code",
   "execution_count": 22,
   "metadata": {},
   "outputs": [],
   "source": [
    "import pickle\n",
    "\n",
    "# Save to file in the current working directory\n",
    "pkl_filename = \"app/TrainedModel/StackedPickle.pkl\"\n",
    "with open(pkl_filename, 'wb') as file:\n",
    "    pickle.dump(model, file)\n",
    "\n",
    "# Load from file\n",
    "with open(pkl_filename, 'rb') as file:\n",
    "    pickle_model = pickle.load(file)"
   ]
  },
  {
   "cell_type": "code",
   "execution_count": 23,
   "metadata": {},
   "outputs": [
    {
     "name": "stdout",
     "output_type": "stream",
     "text": [
      "Test score: 84.92 %\n"
     ]
    }
   ],
   "source": [
    "score = pickle_model.score(X_test, y_test)\n",
    "print(\"Test score: {0:.2f} %\".format(100 * score))\n",
    "Ypredict = pickle_model.predict(X_test)"
   ]
  },
  {
   "cell_type": "code",
   "execution_count": 24,
   "metadata": {},
   "outputs": [
    {
     "name": "stdout",
     "output_type": "stream",
     "text": [
      "[  0.17004  12.5       7.87      0.        0.524     6.004    85.9\n",
      "   6.5921    5.      311.       15.2     386.71     17.1    ]\n",
      "[  0.08829  12.5       7.87      0.        0.524     6.012    66.6\n",
      "   5.5605    5.      311.       15.2     395.6      12.43   ]\n",
      "[  0.7258   0.       8.14     0.       0.538    5.727   69.5      3.7965\n",
      "   4.     307.      21.     390.95    11.28  ]\n",
      "[  0.7842   0.       8.14     0.       0.538    5.99    81.7      4.2579\n",
      "   4.     307.      21.     386.75    14.67  ]\n",
      "[  0.85204   0.        8.14      0.        0.538     5.965    89.2\n",
      "   4.0123    4.      307.       21.      392.53     13.83   ]\n"
     ]
    }
   ],
   "source": [
    "# boston.data[1]\n",
    "np.set_printoptions(suppress=True)\n",
    "print(boston.data[9])\n",
    "print(boston.data[6])\n",
    "print(boston.data[19])\n",
    "print(boston.data[17])\n",
    "print(boston.data[21])\n",
    "\n",
    "# print(boston.data.reshape(1, -1))\n",
    "# print(boston.data.reshape(1, -1)[0][0])"
   ]
  },
  {
   "cell_type": "code",
   "execution_count": 25,
   "metadata": {},
   "outputs": [
    {
     "name": "stderr",
     "output_type": "stream",
     "text": [
      "e:\\ANLY 605\\ApplicationTutorial\\.venv\\lib\\site-packages\\sklearn\\utils\\deprecation.py:87: FutureWarning:\n",
      "\n",
      "Function load_boston is deprecated; `load_boston` is deprecated in 1.0 and will be removed in 1.2.\n",
      "\n",
      "    The Boston housing prices dataset has an ethical problem. You can refer to\n",
      "    the documentation of this function for further details.\n",
      "\n",
      "    The scikit-learn maintainers therefore strongly discourage the use of this\n",
      "    dataset unless the purpose of the code is to study and educate about\n",
      "    ethical issues in data science and machine learning.\n",
      "\n",
      "    In this case special case, you can fetch the dataset from the original\n",
      "    source::\n",
      "\n",
      "        import pandas as pd\n",
      "        import numpy as np\n",
      "\n",
      "\n",
      "        data_url = \"http://lib.stat.cmu.edu/datasets/boston\"\n",
      "        raw_df = pd.read_csv(data_url, sep=\"\\s+\", skiprows=22, header=None)\n",
      "        data = np.hstack([raw_df.values[::2, :], raw_df.values[1::2, :2]])\n",
      "        target = raw_df.values[1::2, 2]\n",
      "\n",
      "    Alternative datasets include the California housing dataset (i.e.\n",
      "    func:`~sklearn.datasets.fetch_california_housing`) and the Ames housing\n",
      "    dataset. You can load the datasets as follows:\n",
      "\n",
      "        from sklearn.datasets import fetch_california_housing\n",
      "        housing = fetch_california_housing()\n",
      "\n",
      "    for the California housing dataset and:\n",
      "\n",
      "        from sklearn.datasets import fetch_openml\n",
      "        housing = fetch_openml(name=\"house_prices\", as_frame=True)\n",
      "\n",
      "    for the Ames housing dataset.\n",
      "    \n",
      "\n"
     ]
    },
    {
     "data": {
      "text/plain": [
       "'[22.04841179]'"
      ]
     },
     "execution_count": 25,
     "metadata": {},
     "output_type": "execute_result"
    }
   ],
   "source": [
    "def hello_world():\n",
    "    boston = load_boston()\n",
    "    pkl_filename = \"app/TrainedModel/StackedPickle.pkl\"\n",
    "    testvalue = boston.data[1].reshape(1, -1)\n",
    "    test_input = testvalue\n",
    "    with open(pkl_filename, 'rb') as file:\n",
    "        pickle_model = pickle.load(file)\n",
    "    predict = pickle_model.predict(test_input)\n",
    "    predict_as_str = str(predict)\n",
    "    return predict_as_str\n",
    "\n",
    "hello_world()"
   ]
  },
  {
   "cell_type": "code",
   "execution_count": 26,
   "metadata": {},
   "outputs": [],
   "source": [
    "import pandas as pd\n",
    "import numpy as np\n",
    "import matplotlib.pyplot as plt\n",
    "import seaborn as sns\n",
    "from sklearn.datasets import load_boston\n",
    "import warnings\n",
    "from sklearn.model_selection import cross_val_score\n",
    "from sklearn.linear_model import Ridge, Lasso, LinearRegression\n",
    "from sklearn.tree import DecisionTreeRegressor\n",
    "from sklearn.ensemble import GradientBoostingRegressor, BaggingRegressor, RandomForestRegressor, StackingRegressor\n",
    "from xgboost import XGBRegressor\n",
    "from lightgbm import LGBMRegressor\n",
    "\n",
    "level0 = list()\n",
    "level0.append(('Tree', DecisionTreeRegressor()))\n",
    "level0.append(('RF', RandomForestRegressor()))\n",
    "level0.append(('GBM', GradientBoostingRegressor()))\n",
    "level0.append(('Bagging', BaggingRegressor()))\n",
    "level0.append((\"XGB\", XGBRegressor()))\n",
    "\n",
    "level1 = LGBMRegressor()\n",
    "model = StackingRegressor(estimators=level0, final_estimator=level1, cv=10)\n",
    "model.fit(X_train, y_train)\n",
    "\n",
    "def plot_graphs(model,new_input_arr, output_file):\n",
    "    data = load_boston()\n",
    "    df = pd.DataFrame(data.data, columns = data.feature_names)\n",
    "    df['PRICE'] = data.target\n",
    "\n",
    "    fig = make_subplots(\n",
    "    rows=1, cols=2\n",
    "    # subplot_titles=(\"Plot 1\", \"Plot 2\", \"Plot 3\", \"Plot 4\")\n",
    "    )\n",
    "\n",
    "    fig.add_trace(\n",
    "        go.Scatter(x=df[\"LSTAT\"],y=df['PRICE'],mode='markers',\n",
    "        marker=dict(\n",
    "                color=\"#003366\"),\n",
    "            line=dict(color=\"#003366\",width=1)),\n",
    "        row=1, col=1\n",
    "    )\n",
    "\n",
    "    fig.add_trace(\n",
    "        go.Scatter(x=df['RM'],y=df['PRICE'],mode='markers',\n",
    "        marker=dict(\n",
    "                color=\"#FF6600\"),\n",
    "            line=dict(color=\"#FF6600\",width=1)),\n",
    "        row=1, col=2\n",
    "    )\n",
    "\n",
    "    new_preds = model.predict(new_input_arr)\n",
    "    # print(new_preds)\n",
    "    RM_input = np.array(new_input_arr[0][5])\n",
    "    # print(RM_input)\n",
    "    LSTAT_input =np.array(new_input_arr[0][12])\n",
    "    # print(LSTAT_input)\n",
    "\n",
    "    fig.add_trace(\n",
    "    go.Scatter(\n",
    "        x=LSTAT_input,\n",
    "        y=new_preds,\n",
    "        mode='markers', name=\"Predicted Output\",\n",
    "        marker=dict(\n",
    "            color=\"#FFCC00\",size=15),\n",
    "        line=dict(color=\"#FFCC00\",width=1)),\n",
    "        row=1, col=1\n",
    "    )\n",
    "\n",
    "    fig.add_trace(\n",
    "        go.Scatter(\n",
    "            x=RM_input,\n",
    "            y=new_preds,\n",
    "            mode='markers', name=\"Predicted Output\",\n",
    "            marker=dict(\n",
    "                color=\"#6600cc\",size=15),\n",
    "            line=dict(color=\"red\",width=1)),\n",
    "            row=1, col=2\n",
    "    )\n",
    "\n",
    "    # Update xaxis properties\n",
    "    fig.update_xaxes(title_text=\"Lower State Population (%)\", row=1, col=1)\n",
    "    fig.update_xaxes(title_text=\"Number of Rooms\", row=1, col=2)\n",
    "\n",
    "    # Update yaxis properties\n",
    "    fig.update_yaxes(title_text=\"House Prices ($1000)\", row=1, col=1)\n",
    "    # fig.update_yaxes(title_text=\"yaxis 2 title\", range=[40, 80], row=1, col=2)\n",
    "    # Update title and height\n",
    "    fig.update_layout(height=600, width=1400, title_text=\"Variation in Housing Prices\")\n",
    "    output_file=\"app/static/scatterplot.svg\"\n",
    "    fig.write_image(output_file,width=1200,engine=\"kaleido\")\n",
    "    fig.show()"
   ]
  },
  {
   "cell_type": "code",
   "execution_count": 27,
   "metadata": {},
   "outputs": [
    {
     "name": "stderr",
     "output_type": "stream",
     "text": [
      "e:\\ANLY 605\\ApplicationTutorial\\.venv\\lib\\site-packages\\sklearn\\utils\\deprecation.py:87: FutureWarning:\n",
      "\n",
      "Function load_boston is deprecated; `load_boston` is deprecated in 1.0 and will be removed in 1.2.\n",
      "\n",
      "    The Boston housing prices dataset has an ethical problem. You can refer to\n",
      "    the documentation of this function for further details.\n",
      "\n",
      "    The scikit-learn maintainers therefore strongly discourage the use of this\n",
      "    dataset unless the purpose of the code is to study and educate about\n",
      "    ethical issues in data science and machine learning.\n",
      "\n",
      "    In this case special case, you can fetch the dataset from the original\n",
      "    source::\n",
      "\n",
      "        import pandas as pd\n",
      "        import numpy as np\n",
      "\n",
      "\n",
      "        data_url = \"http://lib.stat.cmu.edu/datasets/boston\"\n",
      "        raw_df = pd.read_csv(data_url, sep=\"\\s+\", skiprows=22, header=None)\n",
      "        data = np.hstack([raw_df.values[::2, :], raw_df.values[1::2, :2]])\n",
      "        target = raw_df.values[1::2, 2]\n",
      "\n",
      "    Alternative datasets include the California housing dataset (i.e.\n",
      "    func:`~sklearn.datasets.fetch_california_housing`) and the Ames housing\n",
      "    dataset. You can load the datasets as follows:\n",
      "\n",
      "        from sklearn.datasets import fetch_california_housing\n",
      "        housing = fetch_california_housing()\n",
      "\n",
      "    for the California housing dataset and:\n",
      "\n",
      "        from sklearn.datasets import fetch_openml\n",
      "        housing = fetch_openml(name=\"house_prices\", as_frame=True)\n",
      "\n",
      "    for the Ames housing dataset.\n",
      "    \n",
      "\n"
     ]
    },
    {
     "data": {
      "application/vnd.plotly.v1+json": {
       "config": {
        "plotlyServerURL": "https://plot.ly"
       },
       "data": [
        {
         "line": {
          "color": "#003366",
          "width": 1
         },
         "marker": {
          "color": "#003366"
         },
         "mode": "markers",
         "type": "scatter",
         "x": [
          4.98,
          9.14,
          4.03,
          2.94,
          5.33,
          5.21,
          12.43,
          19.15,
          29.93,
          17.1,
          20.45,
          13.27,
          15.71,
          8.26,
          10.26,
          8.47,
          6.58,
          14.67,
          11.69,
          11.28,
          21.02,
          13.83,
          18.72,
          19.88,
          16.3,
          16.51,
          14.81,
          17.28,
          12.8,
          11.98,
          22.6,
          13.04,
          27.71,
          18.35,
          20.34,
          9.68,
          11.41,
          8.77,
          10.13,
          4.32,
          1.98,
          4.84,
          5.81,
          7.44,
          9.55,
          10.21,
          14.15,
          18.8,
          30.81,
          16.2,
          13.45,
          9.43,
          5.28,
          8.43,
          14.8,
          4.81,
          5.77,
          3.95,
          6.86,
          9.22,
          13.15,
          14.44,
          6.73,
          9.5,
          8.05,
          4.67,
          10.24,
          8.1,
          13.09,
          8.79,
          6.72,
          9.88,
          5.52,
          7.54,
          6.78,
          8.94,
          11.97,
          10.27,
          12.34,
          9.1,
          5.29,
          7.22,
          6.72,
          7.51,
          9.62,
          6.53,
          12.86,
          8.44,
          5.5,
          5.7,
          8.81,
          8.2,
          8.16,
          6.21,
          10.59,
          6.65,
          11.34,
          4.21,
          3.57,
          6.19,
          9.42,
          7.67,
          10.63,
          13.44,
          12.33,
          16.47,
          18.66,
          14.09,
          12.27,
          15.55,
          13,
          10.16,
          16.21,
          17.09,
          10.45,
          15.76,
          12.04,
          10.3,
          15.37,
          13.61,
          14.37,
          14.27,
          17.93,
          25.41,
          17.58,
          14.81,
          27.26,
          17.19,
          15.39,
          18.34,
          12.6,
          12.26,
          11.12,
          15.03,
          17.31,
          16.96,
          16.9,
          14.59,
          21.32,
          18.46,
          24.16,
          34.41,
          26.82,
          26.42,
          29.29,
          27.8,
          16.65,
          29.53,
          28.32,
          21.45,
          14.1,
          13.28,
          12.12,
          15.79,
          15.12,
          15.02,
          16.14,
          4.59,
          6.43,
          7.39,
          5.5,
          1.73,
          1.92,
          3.32,
          11.64,
          9.81,
          3.7,
          12.14,
          11.1,
          11.32,
          14.43,
          12.03,
          14.69,
          9.04,
          9.64,
          5.33,
          10.11,
          6.29,
          6.92,
          5.04,
          7.56,
          9.45,
          4.82,
          5.68,
          13.98,
          13.15,
          4.45,
          6.68,
          4.56,
          5.39,
          5.1,
          4.69,
          2.87,
          5.03,
          4.38,
          2.97,
          4.08,
          8.61,
          6.62,
          4.56,
          4.45,
          7.43,
          3.11,
          3.81,
          2.88,
          10.87,
          10.97,
          18.06,
          14.66,
          23.09,
          17.27,
          23.98,
          16.03,
          9.38,
          29.55,
          9.47,
          13.51,
          9.69,
          17.92,
          10.5,
          9.71,
          21.46,
          9.93,
          7.6,
          4.14,
          4.63,
          3.13,
          6.36,
          3.92,
          3.76,
          11.65,
          5.25,
          2.47,
          3.95,
          8.05,
          10.88,
          9.54,
          4.73,
          6.36,
          7.37,
          11.38,
          12.4,
          11.22,
          5.19,
          12.5,
          18.46,
          9.16,
          10.15,
          9.52,
          6.56,
          5.9,
          3.59,
          3.53,
          3.54,
          6.57,
          9.25,
          3.11,
          5.12,
          7.79,
          6.9,
          9.59,
          7.26,
          5.91,
          11.25,
          8.1,
          10.45,
          14.79,
          7.44,
          3.16,
          13.65,
          13,
          6.59,
          7.73,
          6.58,
          3.53,
          2.98,
          6.05,
          4.16,
          7.19,
          4.85,
          3.76,
          4.59,
          3.01,
          3.16,
          7.85,
          8.23,
          12.93,
          7.14,
          7.6,
          9.51,
          3.33,
          3.56,
          4.7,
          8.58,
          10.4,
          6.27,
          7.39,
          15.84,
          4.97,
          4.74,
          6.07,
          9.5,
          8.67,
          4.86,
          6.93,
          8.93,
          6.47,
          7.53,
          4.54,
          9.97,
          12.64,
          5.98,
          11.72,
          7.9,
          9.28,
          11.5,
          18.33,
          15.94,
          10.36,
          12.73,
          7.2,
          6.87,
          7.7,
          11.74,
          6.12,
          5.08,
          6.15,
          12.79,
          9.97,
          7.34,
          9.09,
          12.43,
          7.83,
          5.68,
          6.75,
          8.01,
          9.8,
          10.56,
          8.51,
          9.74,
          9.29,
          5.49,
          8.65,
          7.18,
          4.61,
          10.53,
          12.67,
          6.36,
          5.99,
          5.89,
          5.98,
          5.49,
          7.79,
          4.5,
          8.05,
          5.57,
          17.6,
          13.27,
          11.48,
          12.67,
          7.79,
          14.19,
          10.19,
          14.64,
          5.29,
          7.12,
          14,
          13.33,
          3.26,
          3.73,
          2.96,
          9.53,
          8.88,
          34.77,
          37.97,
          13.44,
          23.24,
          21.24,
          23.69,
          21.78,
          17.21,
          21.08,
          23.6,
          24.56,
          30.63,
          30.81,
          28.28,
          31.99,
          30.62,
          20.85,
          17.11,
          18.76,
          25.68,
          15.17,
          16.35,
          17.12,
          19.37,
          19.92,
          30.59,
          29.97,
          26.77,
          20.32,
          20.31,
          19.77,
          27.38,
          22.98,
          23.34,
          12.13,
          26.4,
          19.78,
          10.11,
          21.22,
          34.37,
          20.08,
          36.98,
          29.05,
          25.79,
          26.64,
          20.62,
          22.74,
          15.02,
          15.7,
          14.1,
          23.29,
          17.16,
          24.39,
          15.69,
          14.52,
          21.52,
          24.08,
          17.64,
          19.69,
          12.03,
          16.22,
          15.17,
          23.27,
          18.05,
          26.45,
          34.02,
          22.88,
          22.11,
          19.52,
          16.59,
          18.85,
          23.79,
          23.98,
          17.79,
          16.44,
          18.13,
          19.31,
          17.44,
          17.73,
          17.27,
          16.74,
          18.71,
          18.13,
          19.01,
          16.94,
          16.23,
          14.7,
          16.42,
          14.65,
          13.99,
          10.29,
          13.22,
          14.13,
          17.15,
          21.32,
          18.13,
          14.76,
          16.29,
          12.87,
          14.36,
          11.66,
          18.14,
          24.1,
          18.68,
          24.91,
          18.03,
          13.11,
          10.74,
          7.74,
          7.01,
          10.42,
          13.34,
          10.58,
          14.98,
          11.45,
          18.06,
          23.97,
          29.68,
          18.07,
          13.35,
          12.01,
          13.59,
          17.6,
          21.14,
          14.1,
          12.92,
          15.1,
          14.33,
          9.67,
          9.08,
          5.64,
          6.48,
          7.88
         ],
         "xaxis": "x",
         "y": [
          24,
          21.6,
          34.7,
          33.4,
          36.2,
          28.7,
          22.9,
          27.1,
          16.5,
          18.9,
          15,
          18.9,
          21.7,
          20.4,
          18.2,
          19.9,
          23.1,
          17.5,
          20.2,
          18.2,
          13.6,
          19.6,
          15.2,
          14.5,
          15.6,
          13.9,
          16.6,
          14.8,
          18.4,
          21,
          12.7,
          14.5,
          13.2,
          13.1,
          13.5,
          18.9,
          20,
          21,
          24.7,
          30.8,
          34.9,
          26.6,
          25.3,
          24.7,
          21.2,
          19.3,
          20,
          16.6,
          14.4,
          19.4,
          19.7,
          20.5,
          25,
          23.4,
          18.9,
          35.4,
          24.7,
          31.6,
          23.3,
          19.6,
          18.7,
          16,
          22.2,
          25,
          33,
          23.5,
          19.4,
          22,
          17.4,
          20.9,
          24.2,
          21.7,
          22.8,
          23.4,
          24.1,
          21.4,
          20,
          20.8,
          21.2,
          20.3,
          28,
          23.9,
          24.8,
          22.9,
          23.9,
          26.6,
          22.5,
          22.2,
          23.6,
          28.7,
          22.6,
          22,
          22.9,
          25,
          20.6,
          28.4,
          21.4,
          38.7,
          43.8,
          33.2,
          27.5,
          26.5,
          18.6,
          19.3,
          20.1,
          19.5,
          19.5,
          20.4,
          19.8,
          19.4,
          21.7,
          22.8,
          18.8,
          18.7,
          18.5,
          18.3,
          21.2,
          19.2,
          20.4,
          19.3,
          22,
          20.3,
          20.5,
          17.3,
          18.8,
          21.4,
          15.7,
          16.2,
          18,
          14.3,
          19.2,
          19.6,
          23,
          18.4,
          15.6,
          18.1,
          17.4,
          17.1,
          13.3,
          17.8,
          14,
          14.4,
          13.4,
          15.6,
          11.8,
          13.8,
          15.6,
          14.6,
          17.8,
          15.4,
          21.5,
          19.6,
          15.3,
          19.4,
          17,
          15.6,
          13.1,
          41.3,
          24.3,
          23.3,
          27,
          50,
          50,
          50,
          22.7,
          25,
          50,
          23.8,
          23.8,
          22.3,
          17.4,
          19.1,
          23.1,
          23.6,
          22.6,
          29.4,
          23.2,
          24.6,
          29.9,
          37.2,
          39.8,
          36.2,
          37.9,
          32.5,
          26.4,
          29.6,
          50,
          32,
          29.8,
          34.9,
          37,
          30.5,
          36.4,
          31.1,
          29.1,
          50,
          33.3,
          30.3,
          34.6,
          34.9,
          32.9,
          24.1,
          42.3,
          48.5,
          50,
          22.6,
          24.4,
          22.5,
          24.4,
          20,
          21.7,
          19.3,
          22.4,
          28.1,
          23.7,
          25,
          23.3,
          28.7,
          21.5,
          23,
          26.7,
          21.7,
          27.5,
          30.1,
          44.8,
          50,
          37.6,
          31.6,
          46.7,
          31.5,
          24.3,
          31.7,
          41.7,
          48.3,
          29,
          24,
          25.1,
          31.5,
          23.7,
          23.3,
          22,
          20.1,
          22.2,
          23.7,
          17.6,
          18.5,
          24.3,
          20.5,
          24.5,
          26.2,
          24.4,
          24.8,
          29.6,
          42.8,
          21.9,
          20.9,
          44,
          50,
          36,
          30.1,
          33.8,
          43.1,
          48.8,
          31,
          36.5,
          22.8,
          30.7,
          50,
          43.5,
          20.7,
          21.1,
          25.2,
          24.4,
          35.2,
          32.4,
          32,
          33.2,
          33.1,
          29.1,
          35.1,
          45.4,
          35.4,
          46,
          50,
          32.2,
          22,
          20.1,
          23.2,
          22.3,
          24.8,
          28.5,
          37.3,
          27.9,
          23.9,
          21.7,
          28.6,
          27.1,
          20.3,
          22.5,
          29,
          24.8,
          22,
          26.4,
          33.1,
          36.1,
          28.4,
          33.4,
          28.2,
          22.8,
          20.3,
          16.1,
          22.1,
          19.4,
          21.6,
          23.8,
          16.2,
          17.8,
          19.8,
          23.1,
          21,
          23.8,
          23.1,
          20.4,
          18.5,
          25,
          24.6,
          23,
          22.2,
          19.3,
          22.6,
          19.8,
          17.1,
          19.4,
          22.2,
          20.7,
          21.1,
          19.5,
          18.5,
          20.6,
          19,
          18.7,
          32.7,
          16.5,
          23.9,
          31.2,
          17.5,
          17.2,
          23.1,
          24.5,
          26.6,
          22.9,
          24.1,
          18.6,
          30.1,
          18.2,
          20.6,
          17.8,
          21.7,
          22.7,
          22.6,
          25,
          19.9,
          20.8,
          16.8,
          21.9,
          27.5,
          21.9,
          23.1,
          50,
          50,
          50,
          50,
          50,
          13.8,
          13.8,
          15,
          13.9,
          13.3,
          13.1,
          10.2,
          10.4,
          10.9,
          11.3,
          12.3,
          8.8,
          7.2,
          10.5,
          7.4,
          10.2,
          11.5,
          15.1,
          23.2,
          9.7,
          13.8,
          12.7,
          13.1,
          12.5,
          8.5,
          5,
          6.3,
          5.6,
          7.2,
          12.1,
          8.3,
          8.5,
          5,
          11.9,
          27.9,
          17.2,
          27.5,
          15,
          17.2,
          17.9,
          16.3,
          7,
          7.2,
          7.5,
          10.4,
          8.8,
          8.4,
          16.7,
          14.2,
          20.8,
          13.4,
          11.7,
          8.3,
          10.2,
          10.9,
          11,
          9.5,
          14.5,
          14.1,
          16.1,
          14.3,
          11.7,
          13.4,
          9.6,
          8.7,
          8.4,
          12.8,
          10.5,
          17.1,
          18.4,
          15.4,
          10.8,
          11.8,
          14.9,
          12.6,
          14.1,
          13,
          13.4,
          15.2,
          16.1,
          17.8,
          14.9,
          14.1,
          12.7,
          13.5,
          14.9,
          20,
          16.4,
          17.7,
          19.5,
          20.2,
          21.4,
          19.9,
          19,
          19.1,
          19.1,
          20.1,
          19.9,
          19.6,
          23.2,
          29.8,
          13.8,
          13.3,
          16.7,
          12,
          14.6,
          21.4,
          23,
          23.7,
          25,
          21.8,
          20.6,
          21.2,
          19.1,
          20.6,
          15.2,
          7,
          8.1,
          13.6,
          20.1,
          21.8,
          24.5,
          23.1,
          19.7,
          18.3,
          21.2,
          17.5,
          16.8,
          22.4,
          20.6,
          23.9,
          22,
          11.9
         ],
         "yaxis": "y"
        },
        {
         "line": {
          "color": "#FF6600",
          "width": 1
         },
         "marker": {
          "color": "#FF6600"
         },
         "mode": "markers",
         "type": "scatter",
         "x": [
          6.575,
          6.421,
          7.185,
          6.998,
          7.147,
          6.43,
          6.012,
          6.172,
          5.631,
          6.004,
          6.377,
          6.009,
          5.889,
          5.949,
          6.096,
          5.834,
          5.935,
          5.99,
          5.456,
          5.727,
          5.57,
          5.965,
          6.142,
          5.813,
          5.924,
          5.599,
          5.813,
          6.047,
          6.495,
          6.674,
          5.713,
          6.072,
          5.95,
          5.701,
          6.096,
          5.933,
          5.841,
          5.85,
          5.966,
          6.595,
          7.024,
          6.77,
          6.169,
          6.211,
          6.069,
          5.682,
          5.786,
          6.03,
          5.399,
          5.602,
          5.963,
          6.115,
          6.511,
          5.998,
          5.888,
          7.249,
          6.383,
          6.816,
          6.145,
          5.927,
          5.741,
          5.966,
          6.456,
          6.762,
          7.104,
          6.29,
          5.787,
          5.878,
          5.594,
          5.885,
          6.417,
          5.961,
          6.065,
          6.245,
          6.273,
          6.286,
          6.279,
          6.14,
          6.232,
          5.874,
          6.727,
          6.619,
          6.302,
          6.167,
          6.389,
          6.63,
          6.015,
          6.121,
          7.007,
          7.079,
          6.417,
          6.405,
          6.442,
          6.211,
          6.249,
          6.625,
          6.163,
          8.069,
          7.82,
          7.416,
          6.727,
          6.781,
          6.405,
          6.137,
          6.167,
          5.851,
          5.836,
          6.127,
          6.474,
          6.229,
          6.195,
          6.715,
          5.913,
          6.092,
          6.254,
          5.928,
          6.176,
          6.021,
          5.872,
          5.731,
          5.87,
          6.004,
          5.961,
          5.856,
          5.879,
          5.986,
          5.613,
          5.693,
          6.431,
          5.637,
          6.458,
          6.326,
          6.372,
          5.822,
          5.757,
          6.335,
          5.942,
          6.454,
          5.857,
          6.151,
          6.174,
          5.019,
          5.403,
          5.468,
          4.903,
          6.13,
          5.628,
          4.926,
          5.186,
          5.597,
          6.122,
          5.404,
          5.012,
          5.709,
          6.129,
          6.152,
          5.272,
          6.943,
          6.066,
          6.51,
          6.25,
          7.489,
          7.802,
          8.375,
          5.854,
          6.101,
          7.929,
          5.877,
          6.319,
          6.402,
          5.875,
          5.88,
          5.572,
          6.416,
          5.859,
          6.546,
          6.02,
          6.315,
          6.86,
          6.98,
          7.765,
          6.144,
          7.155,
          6.563,
          5.604,
          6.153,
          7.831,
          6.782,
          6.556,
          7.185,
          6.951,
          6.739,
          7.178,
          6.8,
          6.604,
          7.875,
          7.287,
          7.107,
          7.274,
          6.975,
          7.135,
          6.162,
          7.61,
          7.853,
          8.034,
          5.891,
          6.326,
          5.783,
          6.064,
          5.344,
          5.96,
          5.404,
          5.807,
          6.375,
          5.412,
          6.182,
          5.888,
          6.642,
          5.951,
          6.373,
          6.951,
          6.164,
          6.879,
          6.618,
          8.266,
          8.725,
          8.04,
          7.163,
          7.686,
          6.552,
          5.981,
          7.412,
          8.337,
          8.247,
          6.726,
          6.086,
          6.631,
          7.358,
          6.481,
          6.606,
          6.897,
          6.095,
          6.358,
          6.393,
          5.593,
          5.605,
          6.108,
          6.226,
          6.433,
          6.718,
          6.487,
          6.438,
          6.957,
          8.259,
          6.108,
          5.876,
          7.454,
          8.704,
          7.333,
          6.842,
          7.203,
          7.52,
          8.398,
          7.327,
          7.206,
          5.56,
          7.014,
          8.297,
          7.47,
          5.92,
          5.856,
          6.24,
          6.538,
          7.691,
          6.758,
          6.854,
          7.267,
          6.826,
          6.482,
          6.812,
          7.82,
          6.968,
          7.645,
          7.923,
          7.088,
          6.453,
          6.23,
          6.209,
          6.315,
          6.565,
          6.861,
          7.148,
          6.63,
          6.127,
          6.009,
          6.678,
          6.549,
          5.79,
          6.345,
          7.041,
          6.871,
          6.59,
          6.495,
          6.982,
          7.236,
          6.616,
          7.42,
          6.849,
          6.635,
          5.972,
          4.973,
          6.122,
          6.023,
          6.266,
          6.567,
          5.705,
          5.914,
          5.782,
          6.382,
          6.113,
          6.426,
          6.376,
          6.041,
          5.708,
          6.415,
          6.431,
          6.312,
          6.083,
          5.868,
          6.333,
          6.144,
          5.706,
          6.031,
          6.316,
          6.31,
          6.037,
          5.869,
          5.895,
          6.059,
          5.985,
          5.968,
          7.241,
          6.54,
          6.696,
          6.874,
          6.014,
          5.898,
          6.516,
          6.635,
          6.939,
          6.49,
          6.579,
          5.884,
          6.728,
          5.663,
          5.936,
          6.212,
          6.395,
          6.127,
          6.112,
          6.398,
          6.251,
          5.362,
          5.803,
          8.78,
          3.561,
          4.963,
          3.863,
          4.97,
          6.683,
          7.016,
          6.216,
          5.875,
          4.906,
          4.138,
          7.313,
          6.649,
          6.794,
          6.38,
          6.223,
          6.968,
          6.545,
          5.536,
          5.52,
          4.368,
          5.277,
          4.652,
          5,
          4.88,
          5.39,
          5.713,
          6.051,
          5.036,
          6.193,
          5.887,
          6.471,
          6.405,
          5.747,
          5.453,
          5.852,
          5.987,
          6.343,
          6.404,
          5.349,
          5.531,
          5.683,
          4.138,
          5.608,
          5.617,
          6.852,
          5.757,
          6.657,
          4.628,
          5.155,
          4.519,
          6.434,
          6.782,
          5.304,
          5.957,
          6.824,
          6.411,
          6.006,
          5.648,
          6.103,
          5.565,
          5.896,
          5.837,
          6.202,
          6.193,
          6.38,
          6.348,
          6.833,
          6.425,
          6.436,
          6.208,
          6.629,
          6.461,
          6.152,
          5.935,
          5.627,
          5.818,
          6.406,
          6.219,
          6.485,
          5.854,
          6.459,
          6.341,
          6.251,
          6.185,
          6.417,
          6.749,
          6.655,
          6.297,
          7.393,
          6.728,
          6.525,
          5.976,
          5.936,
          6.301,
          6.081,
          6.701,
          6.376,
          6.317,
          6.513,
          6.209,
          5.759,
          5.952,
          6.003,
          5.926,
          5.713,
          6.167,
          6.229,
          6.437,
          6.98,
          5.427,
          6.162,
          6.484,
          5.304,
          6.185,
          6.229,
          6.242,
          6.75,
          7.061,
          5.762,
          5.871,
          6.312,
          6.114,
          5.905,
          5.454,
          5.414,
          5.093,
          5.983,
          5.983,
          5.707,
          5.926,
          5.67,
          5.39,
          5.794,
          6.019,
          5.569,
          6.027,
          6.593,
          6.12,
          6.976,
          6.794,
          6.03
         ],
         "xaxis": "x2",
         "y": [
          24,
          21.6,
          34.7,
          33.4,
          36.2,
          28.7,
          22.9,
          27.1,
          16.5,
          18.9,
          15,
          18.9,
          21.7,
          20.4,
          18.2,
          19.9,
          23.1,
          17.5,
          20.2,
          18.2,
          13.6,
          19.6,
          15.2,
          14.5,
          15.6,
          13.9,
          16.6,
          14.8,
          18.4,
          21,
          12.7,
          14.5,
          13.2,
          13.1,
          13.5,
          18.9,
          20,
          21,
          24.7,
          30.8,
          34.9,
          26.6,
          25.3,
          24.7,
          21.2,
          19.3,
          20,
          16.6,
          14.4,
          19.4,
          19.7,
          20.5,
          25,
          23.4,
          18.9,
          35.4,
          24.7,
          31.6,
          23.3,
          19.6,
          18.7,
          16,
          22.2,
          25,
          33,
          23.5,
          19.4,
          22,
          17.4,
          20.9,
          24.2,
          21.7,
          22.8,
          23.4,
          24.1,
          21.4,
          20,
          20.8,
          21.2,
          20.3,
          28,
          23.9,
          24.8,
          22.9,
          23.9,
          26.6,
          22.5,
          22.2,
          23.6,
          28.7,
          22.6,
          22,
          22.9,
          25,
          20.6,
          28.4,
          21.4,
          38.7,
          43.8,
          33.2,
          27.5,
          26.5,
          18.6,
          19.3,
          20.1,
          19.5,
          19.5,
          20.4,
          19.8,
          19.4,
          21.7,
          22.8,
          18.8,
          18.7,
          18.5,
          18.3,
          21.2,
          19.2,
          20.4,
          19.3,
          22,
          20.3,
          20.5,
          17.3,
          18.8,
          21.4,
          15.7,
          16.2,
          18,
          14.3,
          19.2,
          19.6,
          23,
          18.4,
          15.6,
          18.1,
          17.4,
          17.1,
          13.3,
          17.8,
          14,
          14.4,
          13.4,
          15.6,
          11.8,
          13.8,
          15.6,
          14.6,
          17.8,
          15.4,
          21.5,
          19.6,
          15.3,
          19.4,
          17,
          15.6,
          13.1,
          41.3,
          24.3,
          23.3,
          27,
          50,
          50,
          50,
          22.7,
          25,
          50,
          23.8,
          23.8,
          22.3,
          17.4,
          19.1,
          23.1,
          23.6,
          22.6,
          29.4,
          23.2,
          24.6,
          29.9,
          37.2,
          39.8,
          36.2,
          37.9,
          32.5,
          26.4,
          29.6,
          50,
          32,
          29.8,
          34.9,
          37,
          30.5,
          36.4,
          31.1,
          29.1,
          50,
          33.3,
          30.3,
          34.6,
          34.9,
          32.9,
          24.1,
          42.3,
          48.5,
          50,
          22.6,
          24.4,
          22.5,
          24.4,
          20,
          21.7,
          19.3,
          22.4,
          28.1,
          23.7,
          25,
          23.3,
          28.7,
          21.5,
          23,
          26.7,
          21.7,
          27.5,
          30.1,
          44.8,
          50,
          37.6,
          31.6,
          46.7,
          31.5,
          24.3,
          31.7,
          41.7,
          48.3,
          29,
          24,
          25.1,
          31.5,
          23.7,
          23.3,
          22,
          20.1,
          22.2,
          23.7,
          17.6,
          18.5,
          24.3,
          20.5,
          24.5,
          26.2,
          24.4,
          24.8,
          29.6,
          42.8,
          21.9,
          20.9,
          44,
          50,
          36,
          30.1,
          33.8,
          43.1,
          48.8,
          31,
          36.5,
          22.8,
          30.7,
          50,
          43.5,
          20.7,
          21.1,
          25.2,
          24.4,
          35.2,
          32.4,
          32,
          33.2,
          33.1,
          29.1,
          35.1,
          45.4,
          35.4,
          46,
          50,
          32.2,
          22,
          20.1,
          23.2,
          22.3,
          24.8,
          28.5,
          37.3,
          27.9,
          23.9,
          21.7,
          28.6,
          27.1,
          20.3,
          22.5,
          29,
          24.8,
          22,
          26.4,
          33.1,
          36.1,
          28.4,
          33.4,
          28.2,
          22.8,
          20.3,
          16.1,
          22.1,
          19.4,
          21.6,
          23.8,
          16.2,
          17.8,
          19.8,
          23.1,
          21,
          23.8,
          23.1,
          20.4,
          18.5,
          25,
          24.6,
          23,
          22.2,
          19.3,
          22.6,
          19.8,
          17.1,
          19.4,
          22.2,
          20.7,
          21.1,
          19.5,
          18.5,
          20.6,
          19,
          18.7,
          32.7,
          16.5,
          23.9,
          31.2,
          17.5,
          17.2,
          23.1,
          24.5,
          26.6,
          22.9,
          24.1,
          18.6,
          30.1,
          18.2,
          20.6,
          17.8,
          21.7,
          22.7,
          22.6,
          25,
          19.9,
          20.8,
          16.8,
          21.9,
          27.5,
          21.9,
          23.1,
          50,
          50,
          50,
          50,
          50,
          13.8,
          13.8,
          15,
          13.9,
          13.3,
          13.1,
          10.2,
          10.4,
          10.9,
          11.3,
          12.3,
          8.8,
          7.2,
          10.5,
          7.4,
          10.2,
          11.5,
          15.1,
          23.2,
          9.7,
          13.8,
          12.7,
          13.1,
          12.5,
          8.5,
          5,
          6.3,
          5.6,
          7.2,
          12.1,
          8.3,
          8.5,
          5,
          11.9,
          27.9,
          17.2,
          27.5,
          15,
          17.2,
          17.9,
          16.3,
          7,
          7.2,
          7.5,
          10.4,
          8.8,
          8.4,
          16.7,
          14.2,
          20.8,
          13.4,
          11.7,
          8.3,
          10.2,
          10.9,
          11,
          9.5,
          14.5,
          14.1,
          16.1,
          14.3,
          11.7,
          13.4,
          9.6,
          8.7,
          8.4,
          12.8,
          10.5,
          17.1,
          18.4,
          15.4,
          10.8,
          11.8,
          14.9,
          12.6,
          14.1,
          13,
          13.4,
          15.2,
          16.1,
          17.8,
          14.9,
          14.1,
          12.7,
          13.5,
          14.9,
          20,
          16.4,
          17.7,
          19.5,
          20.2,
          21.4,
          19.9,
          19,
          19.1,
          19.1,
          20.1,
          19.9,
          19.6,
          23.2,
          29.8,
          13.8,
          13.3,
          16.7,
          12,
          14.6,
          21.4,
          23,
          23.7,
          25,
          21.8,
          20.6,
          21.2,
          19.1,
          20.6,
          15.2,
          7,
          8.1,
          13.6,
          20.1,
          21.8,
          24.5,
          23.1,
          19.7,
          18.3,
          21.2,
          17.5,
          16.8,
          22.4,
          20.6,
          23.9,
          22,
          11.9
         ],
         "yaxis": "y2"
        },
        {
         "line": {
          "color": "#FFCC00",
          "width": 1
         },
         "marker": {
          "color": "#FFCC00",
          "size": 15
         },
         "mode": "markers",
         "name": "Predicted Output",
         "type": "scatter",
         "x": [
          9.14
         ],
         "xaxis": "x",
         "y": [
          22.206438488672067
         ],
         "yaxis": "y"
        },
        {
         "line": {
          "color": "red",
          "width": 1
         },
         "marker": {
          "color": "#6600cc",
          "size": 15
         },
         "mode": "markers",
         "name": "Predicted Output",
         "type": "scatter",
         "x": [
          6.421
         ],
         "xaxis": "x2",
         "y": [
          22.206438488672067
         ],
         "yaxis": "y2"
        }
       ],
       "layout": {
        "height": 600,
        "template": {
         "data": {
          "bar": [
           {
            "error_x": {
             "color": "#2a3f5f"
            },
            "error_y": {
             "color": "#2a3f5f"
            },
            "marker": {
             "line": {
              "color": "#E5ECF6",
              "width": 0.5
             },
             "pattern": {
              "fillmode": "overlay",
              "size": 10,
              "solidity": 0.2
             }
            },
            "type": "bar"
           }
          ],
          "barpolar": [
           {
            "marker": {
             "line": {
              "color": "#E5ECF6",
              "width": 0.5
             },
             "pattern": {
              "fillmode": "overlay",
              "size": 10,
              "solidity": 0.2
             }
            },
            "type": "barpolar"
           }
          ],
          "carpet": [
           {
            "aaxis": {
             "endlinecolor": "#2a3f5f",
             "gridcolor": "white",
             "linecolor": "white",
             "minorgridcolor": "white",
             "startlinecolor": "#2a3f5f"
            },
            "baxis": {
             "endlinecolor": "#2a3f5f",
             "gridcolor": "white",
             "linecolor": "white",
             "minorgridcolor": "white",
             "startlinecolor": "#2a3f5f"
            },
            "type": "carpet"
           }
          ],
          "choropleth": [
           {
            "colorbar": {
             "outlinewidth": 0,
             "ticks": ""
            },
            "type": "choropleth"
           }
          ],
          "contour": [
           {
            "colorbar": {
             "outlinewidth": 0,
             "ticks": ""
            },
            "colorscale": [
             [
              0,
              "#0d0887"
             ],
             [
              0.1111111111111111,
              "#46039f"
             ],
             [
              0.2222222222222222,
              "#7201a8"
             ],
             [
              0.3333333333333333,
              "#9c179e"
             ],
             [
              0.4444444444444444,
              "#bd3786"
             ],
             [
              0.5555555555555556,
              "#d8576b"
             ],
             [
              0.6666666666666666,
              "#ed7953"
             ],
             [
              0.7777777777777778,
              "#fb9f3a"
             ],
             [
              0.8888888888888888,
              "#fdca26"
             ],
             [
              1,
              "#f0f921"
             ]
            ],
            "type": "contour"
           }
          ],
          "contourcarpet": [
           {
            "colorbar": {
             "outlinewidth": 0,
             "ticks": ""
            },
            "type": "contourcarpet"
           }
          ],
          "heatmap": [
           {
            "colorbar": {
             "outlinewidth": 0,
             "ticks": ""
            },
            "colorscale": [
             [
              0,
              "#0d0887"
             ],
             [
              0.1111111111111111,
              "#46039f"
             ],
             [
              0.2222222222222222,
              "#7201a8"
             ],
             [
              0.3333333333333333,
              "#9c179e"
             ],
             [
              0.4444444444444444,
              "#bd3786"
             ],
             [
              0.5555555555555556,
              "#d8576b"
             ],
             [
              0.6666666666666666,
              "#ed7953"
             ],
             [
              0.7777777777777778,
              "#fb9f3a"
             ],
             [
              0.8888888888888888,
              "#fdca26"
             ],
             [
              1,
              "#f0f921"
             ]
            ],
            "type": "heatmap"
           }
          ],
          "heatmapgl": [
           {
            "colorbar": {
             "outlinewidth": 0,
             "ticks": ""
            },
            "colorscale": [
             [
              0,
              "#0d0887"
             ],
             [
              0.1111111111111111,
              "#46039f"
             ],
             [
              0.2222222222222222,
              "#7201a8"
             ],
             [
              0.3333333333333333,
              "#9c179e"
             ],
             [
              0.4444444444444444,
              "#bd3786"
             ],
             [
              0.5555555555555556,
              "#d8576b"
             ],
             [
              0.6666666666666666,
              "#ed7953"
             ],
             [
              0.7777777777777778,
              "#fb9f3a"
             ],
             [
              0.8888888888888888,
              "#fdca26"
             ],
             [
              1,
              "#f0f921"
             ]
            ],
            "type": "heatmapgl"
           }
          ],
          "histogram": [
           {
            "marker": {
             "pattern": {
              "fillmode": "overlay",
              "size": 10,
              "solidity": 0.2
             }
            },
            "type": "histogram"
           }
          ],
          "histogram2d": [
           {
            "colorbar": {
             "outlinewidth": 0,
             "ticks": ""
            },
            "colorscale": [
             [
              0,
              "#0d0887"
             ],
             [
              0.1111111111111111,
              "#46039f"
             ],
             [
              0.2222222222222222,
              "#7201a8"
             ],
             [
              0.3333333333333333,
              "#9c179e"
             ],
             [
              0.4444444444444444,
              "#bd3786"
             ],
             [
              0.5555555555555556,
              "#d8576b"
             ],
             [
              0.6666666666666666,
              "#ed7953"
             ],
             [
              0.7777777777777778,
              "#fb9f3a"
             ],
             [
              0.8888888888888888,
              "#fdca26"
             ],
             [
              1,
              "#f0f921"
             ]
            ],
            "type": "histogram2d"
           }
          ],
          "histogram2dcontour": [
           {
            "colorbar": {
             "outlinewidth": 0,
             "ticks": ""
            },
            "colorscale": [
             [
              0,
              "#0d0887"
             ],
             [
              0.1111111111111111,
              "#46039f"
             ],
             [
              0.2222222222222222,
              "#7201a8"
             ],
             [
              0.3333333333333333,
              "#9c179e"
             ],
             [
              0.4444444444444444,
              "#bd3786"
             ],
             [
              0.5555555555555556,
              "#d8576b"
             ],
             [
              0.6666666666666666,
              "#ed7953"
             ],
             [
              0.7777777777777778,
              "#fb9f3a"
             ],
             [
              0.8888888888888888,
              "#fdca26"
             ],
             [
              1,
              "#f0f921"
             ]
            ],
            "type": "histogram2dcontour"
           }
          ],
          "mesh3d": [
           {
            "colorbar": {
             "outlinewidth": 0,
             "ticks": ""
            },
            "type": "mesh3d"
           }
          ],
          "parcoords": [
           {
            "line": {
             "colorbar": {
              "outlinewidth": 0,
              "ticks": ""
             }
            },
            "type": "parcoords"
           }
          ],
          "pie": [
           {
            "automargin": true,
            "type": "pie"
           }
          ],
          "scatter": [
           {
            "marker": {
             "colorbar": {
              "outlinewidth": 0,
              "ticks": ""
             }
            },
            "type": "scatter"
           }
          ],
          "scatter3d": [
           {
            "line": {
             "colorbar": {
              "outlinewidth": 0,
              "ticks": ""
             }
            },
            "marker": {
             "colorbar": {
              "outlinewidth": 0,
              "ticks": ""
             }
            },
            "type": "scatter3d"
           }
          ],
          "scattercarpet": [
           {
            "marker": {
             "colorbar": {
              "outlinewidth": 0,
              "ticks": ""
             }
            },
            "type": "scattercarpet"
           }
          ],
          "scattergeo": [
           {
            "marker": {
             "colorbar": {
              "outlinewidth": 0,
              "ticks": ""
             }
            },
            "type": "scattergeo"
           }
          ],
          "scattergl": [
           {
            "marker": {
             "colorbar": {
              "outlinewidth": 0,
              "ticks": ""
             }
            },
            "type": "scattergl"
           }
          ],
          "scattermapbox": [
           {
            "marker": {
             "colorbar": {
              "outlinewidth": 0,
              "ticks": ""
             }
            },
            "type": "scattermapbox"
           }
          ],
          "scatterpolar": [
           {
            "marker": {
             "colorbar": {
              "outlinewidth": 0,
              "ticks": ""
             }
            },
            "type": "scatterpolar"
           }
          ],
          "scatterpolargl": [
           {
            "marker": {
             "colorbar": {
              "outlinewidth": 0,
              "ticks": ""
             }
            },
            "type": "scatterpolargl"
           }
          ],
          "scatterternary": [
           {
            "marker": {
             "colorbar": {
              "outlinewidth": 0,
              "ticks": ""
             }
            },
            "type": "scatterternary"
           }
          ],
          "surface": [
           {
            "colorbar": {
             "outlinewidth": 0,
             "ticks": ""
            },
            "colorscale": [
             [
              0,
              "#0d0887"
             ],
             [
              0.1111111111111111,
              "#46039f"
             ],
             [
              0.2222222222222222,
              "#7201a8"
             ],
             [
              0.3333333333333333,
              "#9c179e"
             ],
             [
              0.4444444444444444,
              "#bd3786"
             ],
             [
              0.5555555555555556,
              "#d8576b"
             ],
             [
              0.6666666666666666,
              "#ed7953"
             ],
             [
              0.7777777777777778,
              "#fb9f3a"
             ],
             [
              0.8888888888888888,
              "#fdca26"
             ],
             [
              1,
              "#f0f921"
             ]
            ],
            "type": "surface"
           }
          ],
          "table": [
           {
            "cells": {
             "fill": {
              "color": "#EBF0F8"
             },
             "line": {
              "color": "white"
             }
            },
            "header": {
             "fill": {
              "color": "#C8D4E3"
             },
             "line": {
              "color": "white"
             }
            },
            "type": "table"
           }
          ]
         },
         "layout": {
          "annotationdefaults": {
           "arrowcolor": "#2a3f5f",
           "arrowhead": 0,
           "arrowwidth": 1
          },
          "autotypenumbers": "strict",
          "coloraxis": {
           "colorbar": {
            "outlinewidth": 0,
            "ticks": ""
           }
          },
          "colorscale": {
           "diverging": [
            [
             0,
             "#8e0152"
            ],
            [
             0.1,
             "#c51b7d"
            ],
            [
             0.2,
             "#de77ae"
            ],
            [
             0.3,
             "#f1b6da"
            ],
            [
             0.4,
             "#fde0ef"
            ],
            [
             0.5,
             "#f7f7f7"
            ],
            [
             0.6,
             "#e6f5d0"
            ],
            [
             0.7,
             "#b8e186"
            ],
            [
             0.8,
             "#7fbc41"
            ],
            [
             0.9,
             "#4d9221"
            ],
            [
             1,
             "#276419"
            ]
           ],
           "sequential": [
            [
             0,
             "#0d0887"
            ],
            [
             0.1111111111111111,
             "#46039f"
            ],
            [
             0.2222222222222222,
             "#7201a8"
            ],
            [
             0.3333333333333333,
             "#9c179e"
            ],
            [
             0.4444444444444444,
             "#bd3786"
            ],
            [
             0.5555555555555556,
             "#d8576b"
            ],
            [
             0.6666666666666666,
             "#ed7953"
            ],
            [
             0.7777777777777778,
             "#fb9f3a"
            ],
            [
             0.8888888888888888,
             "#fdca26"
            ],
            [
             1,
             "#f0f921"
            ]
           ],
           "sequentialminus": [
            [
             0,
             "#0d0887"
            ],
            [
             0.1111111111111111,
             "#46039f"
            ],
            [
             0.2222222222222222,
             "#7201a8"
            ],
            [
             0.3333333333333333,
             "#9c179e"
            ],
            [
             0.4444444444444444,
             "#bd3786"
            ],
            [
             0.5555555555555556,
             "#d8576b"
            ],
            [
             0.6666666666666666,
             "#ed7953"
            ],
            [
             0.7777777777777778,
             "#fb9f3a"
            ],
            [
             0.8888888888888888,
             "#fdca26"
            ],
            [
             1,
             "#f0f921"
            ]
           ]
          },
          "colorway": [
           "#636efa",
           "#EF553B",
           "#00cc96",
           "#ab63fa",
           "#FFA15A",
           "#19d3f3",
           "#FF6692",
           "#B6E880",
           "#FF97FF",
           "#FECB52"
          ],
          "font": {
           "color": "#2a3f5f"
          },
          "geo": {
           "bgcolor": "white",
           "lakecolor": "white",
           "landcolor": "#E5ECF6",
           "showlakes": true,
           "showland": true,
           "subunitcolor": "white"
          },
          "hoverlabel": {
           "align": "left"
          },
          "hovermode": "closest",
          "mapbox": {
           "style": "light"
          },
          "paper_bgcolor": "white",
          "plot_bgcolor": "#E5ECF6",
          "polar": {
           "angularaxis": {
            "gridcolor": "white",
            "linecolor": "white",
            "ticks": ""
           },
           "bgcolor": "#E5ECF6",
           "radialaxis": {
            "gridcolor": "white",
            "linecolor": "white",
            "ticks": ""
           }
          },
          "scene": {
           "xaxis": {
            "backgroundcolor": "#E5ECF6",
            "gridcolor": "white",
            "gridwidth": 2,
            "linecolor": "white",
            "showbackground": true,
            "ticks": "",
            "zerolinecolor": "white"
           },
           "yaxis": {
            "backgroundcolor": "#E5ECF6",
            "gridcolor": "white",
            "gridwidth": 2,
            "linecolor": "white",
            "showbackground": true,
            "ticks": "",
            "zerolinecolor": "white"
           },
           "zaxis": {
            "backgroundcolor": "#E5ECF6",
            "gridcolor": "white",
            "gridwidth": 2,
            "linecolor": "white",
            "showbackground": true,
            "ticks": "",
            "zerolinecolor": "white"
           }
          },
          "shapedefaults": {
           "line": {
            "color": "#2a3f5f"
           }
          },
          "ternary": {
           "aaxis": {
            "gridcolor": "white",
            "linecolor": "white",
            "ticks": ""
           },
           "baxis": {
            "gridcolor": "white",
            "linecolor": "white",
            "ticks": ""
           },
           "bgcolor": "#E5ECF6",
           "caxis": {
            "gridcolor": "white",
            "linecolor": "white",
            "ticks": ""
           }
          },
          "title": {
           "x": 0.05
          },
          "xaxis": {
           "automargin": true,
           "gridcolor": "white",
           "linecolor": "white",
           "ticks": "",
           "title": {
            "standoff": 15
           },
           "zerolinecolor": "white",
           "zerolinewidth": 2
          },
          "yaxis": {
           "automargin": true,
           "gridcolor": "white",
           "linecolor": "white",
           "ticks": "",
           "title": {
            "standoff": 15
           },
           "zerolinecolor": "white",
           "zerolinewidth": 2
          }
         }
        },
        "title": {
         "text": "Variation in Housing Prices"
        },
        "width": 1400,
        "xaxis": {
         "anchor": "y",
         "domain": [
          0,
          0.45
         ],
         "title": {
          "text": "Lower State Population (%)"
         }
        },
        "xaxis2": {
         "anchor": "y2",
         "domain": [
          0.55,
          1
         ],
         "title": {
          "text": "Number of Rooms"
         }
        },
        "yaxis": {
         "anchor": "x",
         "domain": [
          0,
          1
         ],
         "title": {
          "text": "House Prices ($1000)"
         }
        },
        "yaxis2": {
         "anchor": "x2",
         "domain": [
          0,
          1
         ]
        }
       }
      }
     },
     "metadata": {},
     "output_type": "display_data"
    }
   ],
   "source": [
    "from sklearn.datasets import load_boston\n",
    "data = load_boston()\n",
    "df = pd.DataFrame(data.data, columns = data.feature_names)\n",
    "df['PRICE'] = data.target\n",
    "testvalue = boston.data[1].reshape(1, -1)\n",
    "plot_graphs(model,new_input_arr=testvalue,output_file=\"app/static/scatterplot.svg\")"
   ]
  },
  {
   "cell_type": "code",
   "execution_count": 28,
   "metadata": {},
   "outputs": [
    {
     "data": {
      "text/plain": [
       "array([[  1.],\n",
       "       [222.],\n",
       "       [  3.],\n",
       "       [  6.],\n",
       "       [  4.]])"
      ]
     },
     "execution_count": 28,
     "metadata": {},
     "output_type": "execute_result"
    }
   ],
   "source": [
    "def floatsome_to_np_array(floats_str):\n",
    "  def is_float(s):\n",
    "    try:\n",
    "      float(s)\n",
    "      return True\n",
    "    except:\n",
    "      return False\n",
    "  floats = np.array([float(x) for x in floats_str.split(',') if is_float(x)])\n",
    "  return floats.reshape(len(floats), 1)\n",
    "\n",
    "floatsome_to_np_array(\"1, 222, 3, 6, 4, \")"
   ]
  },
  {
   "cell_type": "code",
   "execution_count": 29,
   "metadata": {},
   "outputs": [
    {
     "data": {
      "text/plain": [
       "array([[  1., 222.,   3.,   6.,   4.]])"
      ]
     },
     "execution_count": 29,
     "metadata": {},
     "output_type": "execute_result"
    }
   ],
   "source": [
    "floatsome_to_np_array(\"1, 222, 3, 6, 4, \").reshape(1, -1)"
   ]
  }
 ],
 "metadata": {
  "interpreter": {
   "hash": "ed7667171b32242792b7961a196302f3cefc0cdfe393d2bbd669ab9d08f50ea8"
  },
  "kernelspec": {
   "display_name": "Python 3.8.10 64-bit ('.venv': venv)",
   "name": "python3"
  },
  "language_info": {
   "codemirror_mode": {
    "name": "ipython",
    "version": 3
   },
   "file_extension": ".py",
   "mimetype": "text/x-python",
   "name": "python",
   "nbconvert_exporter": "python",
   "pygments_lexer": "ipython3",
   "version": "3.8.10"
  },
  "orig_nbformat": 4
 },
 "nbformat": 4,
 "nbformat_minor": 2
}
